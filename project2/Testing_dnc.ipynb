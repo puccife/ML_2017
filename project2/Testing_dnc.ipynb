{
 "cells": [
  {
   "cell_type": "code",
   "execution_count": 1,
   "metadata": {},
   "outputs": [
    {
     "name": "stderr",
     "output_type": "stream",
     "text": [
      "/home/mezo/anaconda3/envs/ada/lib/python3.6/importlib/_bootstrap.py:205: RuntimeWarning: compiletime version 3.5 of module 'tensorflow.python.framework.fast_tensor_util' does not match runtime version 3.6\n",
      "  return f(*args, **kwds)\n",
      "Using TensorFlow backend.\n"
     ]
    }
   ],
   "source": [
    "import tensorflow as tf\n",
    "from utils.pretrained_glove import GloveTrainer\n",
    "from utils.preprocessing import clean_tweets\n",
    "import numpy as np\n",
    "from model.dnc_trainer import DNCTrainer\n",
    "from utils.argument_loader import ArgumentLoader\n",
    "import dnc.dnc as dnc"
   ]
  },
  {
   "cell_type": "code",
   "execution_count": 2,
   "metadata": {
    "collapsed": true
   },
   "outputs": [],
   "source": [
    "al = ArgumentLoader()\n",
    "FLAGS = al.get_configuration()"
   ]
  },
  {
   "cell_type": "code",
   "execution_count": 3,
   "metadata": {},
   "outputs": [
    {
     "data": {
      "text/plain": [
       "[]"
      ]
     },
     "execution_count": 3,
     "metadata": {},
     "output_type": "execute_result"
    }
   ],
   "source": [
    "trainable_variables = tf.trainable_variables()\n",
    "trainable_variables"
   ]
  },
  {
   "cell_type": "code",
   "execution_count": 4,
   "metadata": {
    "collapsed": true
   },
   "outputs": [],
   "source": [
    "init_op = tf.global_variables_initializer()"
   ]
  },
  {
   "cell_type": "code",
   "execution_count": 5,
   "metadata": {},
   "outputs": [
    {
     "name": "stdout",
     "output_type": "stream",
     "text": [
      "INFO:tensorflow:Restoring parameters from ./checkpoints/tmp1/model.ckpt-36000\n"
     ]
    }
   ],
   "source": [
    "y_= tf.placeholder(tf.float32,shape=[100,20,2])\n",
    "x = tf.placeholder(tf.float32, [100, 20,200])\n",
    "mask = tf.placeholder(tf.float32,shape=[100,20])\n",
    "#init_op = tf.initialize_all_variables()\n",
    "trainable_variables = tf.trainable_variables()\n",
    "\n",
    "sess = tf.Session()\n",
    "#init_op = tf.global_variables_initializer()\n",
    "saver = tf.train.import_meta_graph('./checkpoints/tmp1/model.ckpt-36000.meta')\n",
    "# sess.run(init_op)\n",
    "saver.restore(sess,tf.train.latest_checkpoint('./checkpoints/tmp1/'))\n",
    "#sess.run(trainable_variables)\n",
    "    #print(x.eval())\n",
    "#First let's load meta graph and restore weights"
   ]
  },
  {
   "cell_type": "code",
   "execution_count": 6,
   "metadata": {
    "collapsed": true
   },
   "outputs": [],
   "source": [
    "sess.run(init_op)"
   ]
  },
  {
   "cell_type": "code",
   "execution_count": 7,
   "metadata": {},
   "outputs": [
    {
     "name": "stdout",
     "output_type": "stream",
     "text": [
      "Indexing word vectors.\n"
     ]
    }
   ],
   "source": [
    "gt = GloveTrainer(vector_size=\"200\", glove_dir=\"./glove.twitter.27B/\")\n",
    "word_embeddings = gt.generate_word_embeddings()"
   ]
  },
  {
   "cell_type": "code",
   "execution_count": 8,
   "metadata": {
    "collapsed": true
   },
   "outputs": [],
   "source": [
    "loadedInstances = 0\n",
    "test_tweets = open(\"./twitter-datasets/test_data.txt\",\"r\")\n",
    "t_tweets = []\n",
    "while loadedInstances < 10000:\n",
    "    raw_test_tweets = test_tweets.readline()\n",
    "    raw_test_tweets = clean_tweets(raw_test_tweets)\n",
    "    t_tweets.append(raw_test_tweets)\n",
    "    loadedInstances = loadedInstances + 1 \n",
    "test_tweets.close()"
   ]
  },
  {
   "cell_type": "code",
   "execution_count": 9,
   "metadata": {
    "collapsed": true
   },
   "outputs": [],
   "source": [
    "missing_voc = {}\n",
    "tweet_glove = [0]*10000\n",
    "for i in range(len(t_tweets)):\n",
    "    matrix_embedding = []\n",
    "    for word in t_tweets[i].split():\n",
    "        try:\n",
    "            matrix_embedding.append(word_embeddings[word])\n",
    "        except:\n",
    "            try:\n",
    "                missing_voc[word] = missing_voc[word] + 1\n",
    "            except KeyError:\n",
    "                missing_voc[word] = 1\n",
    "                    \n",
    "    tweet_glove[i] = ((matrix_embedding),0)"
   ]
  },
  {
   "cell_type": "code",
   "execution_count": 10,
   "metadata": {
    "collapsed": true
   },
   "outputs": [],
   "source": [
    "def get_generator(training_set):\n",
    "    word_size = 200\n",
    "    batch_size = 100\n",
    "    max_lenght = 20\n",
    "    num_classes = 2\n",
    "\n",
    "    batched_input = []\n",
    "    batched_label = []\n",
    "    batched_mask = []\n",
    "\n",
    "    i = 0\n",
    "    num_batch = 0\n",
    "    batch_completed = False\n",
    "    while i < (len(training_set) + 1):\n",
    "        if not batch_completed:\n",
    "            if len(batched_input) < batch_size:\n",
    "                data = training_set[i][0]\n",
    "                data = data[:max_lenght]\n",
    "                if len(data) > 0:\n",
    "                    padded = np.lib.pad(data, ((max_lenght - len(data), 0), (0, 0)), 'constant', constant_values=(0))\n",
    "                    delta = 1.0 / (len(data))\n",
    "                else:\n",
    "                    padded = np.zeros(shape=[max_lenght, word_size])\n",
    "                    delta = 1.0\n",
    "                batched_input.append(padded)\n",
    "                if True:\n",
    "                    label = np.zeros(shape=[max_lenght,num_classes])\n",
    "                    for j in range(0,max_lenght):\n",
    "                        np.put(label[j],training_set[i][1],1.0)\n",
    "                    batched_label.append(label)\n",
    "                    mask = np.zeros(max_lenght)\n",
    "                    weight = np.zeros(len(data))\n",
    "                    for number in range(0, len(data)):\n",
    "                        np.put(weight, number, delta * (number + 1))\n",
    "                    np.put(mask, np.arange(max_lenght - len(data), max_lenght), weight)\n",
    "                    batched_mask.append(mask)\n",
    "                    i += 1\n",
    "            else:\n",
    "                reshaped = np.reshape(batched_input, newshape=[batch_size, max_lenght, word_size])\n",
    "                labels = np.reshape(batched_label, newshape=[batch_size, max_lenght, num_classes])\n",
    "                masks = np.reshape(batched_mask, newshape=[batch_size, max_lenght])\n",
    "                toAppend = (reshaped, labels, masks)\n",
    "                num_batch += 1\n",
    "                if (len(training_set) // batch_size) == num_batch:\n",
    "                    batch_completed = True\n",
    "                batched_input = []\n",
    "                batched_label = []\n",
    "                batched_mask = []\n",
    "                yield toAppend\n",
    "        else:\n",
    "            break"
   ]
  },
  {
   "cell_type": "code",
   "execution_count": null,
   "metadata": {
    "collapsed": true
   },
   "outputs": [],
   "source": [
    "sess.run(tf.variables_initializer(set(tf.all_variables())))"
   ]
  },
  {
   "cell_type": "code",
   "execution_count": 16,
   "metadata": {
    "scrolled": true
   },
   "outputs": [
    {
     "name": "stdout",
     "output_type": "stream",
     "text": [
      "Running model\n",
      "WARNING:tensorflow:From <ipython-input-16-26b73e73c415>:7: all_variables (from tensorflow.python.ops.variables) is deprecated and will be removed after 2017-03-02.\n",
      "Instructions for updating:\n",
      "Please use tf.global_variables instead.\n",
      "100\n",
      "0 done!\n",
      "Running model\n",
      "100\n",
      "1 done!\n",
      "Running model\n",
      "100\n",
      "2 done!\n",
      "Running model\n",
      "100\n",
      "3 done!\n",
      "Running model\n",
      "100\n",
      "4 done!\n",
      "Running model\n",
      "100\n",
      "5 done!\n",
      "Running model\n",
      "100\n",
      "6 done!\n",
      "Running model\n",
      "100\n",
      "7 done!\n",
      "Running model\n",
      "100\n",
      "8 done!\n",
      "Running model\n",
      "100\n",
      "9 done!\n",
      "Running model\n",
      "100\n",
      "10 done!\n",
      "Running model\n",
      "100\n",
      "11 done!\n",
      "Running model\n",
      "100\n",
      "12 done!\n",
      "Running model\n",
      "100\n",
      "13 done!\n",
      "Running model\n",
      "100\n",
      "14 done!\n",
      "Running model\n",
      "100\n",
      "15 done!\n",
      "Running model\n",
      "100\n",
      "16 done!\n",
      "Running model\n",
      "100\n",
      "17 done!\n",
      "Running model\n",
      "100\n",
      "18 done!\n",
      "Running model\n",
      "100\n",
      "19 done!\n",
      "Running model\n",
      "100\n",
      "20 done!\n",
      "Running model\n",
      "100\n",
      "21 done!\n",
      "Running model\n",
      "100\n",
      "22 done!\n",
      "Running model\n",
      "100\n",
      "23 done!\n",
      "Running model\n",
      "100\n",
      "24 done!\n",
      "Running model\n",
      "100\n",
      "25 done!\n",
      "Running model\n",
      "100\n",
      "26 done!\n",
      "Running model\n",
      "100\n",
      "27 done!\n",
      "Running model\n",
      "100\n",
      "28 done!\n",
      "Running model\n",
      "100\n",
      "29 done!\n",
      "Running model\n",
      "100\n",
      "30 done!\n",
      "Running model\n",
      "100\n",
      "31 done!\n",
      "Running model\n",
      "100\n",
      "32 done!\n",
      "Running model\n",
      "100\n",
      "33 done!\n",
      "Running model\n",
      "100\n",
      "34 done!\n",
      "Running model\n",
      "100\n",
      "35 done!\n",
      "Running model\n",
      "100\n",
      "36 done!\n",
      "Running model\n",
      "100\n",
      "37 done!\n",
      "Running model\n",
      "100\n",
      "38 done!\n",
      "Running model\n",
      "100\n",
      "39 done!\n",
      "Running model\n",
      "100\n",
      "40 done!\n",
      "Running model\n",
      "100\n",
      "41 done!\n",
      "Running model\n",
      "100\n",
      "42 done!\n",
      "Running model\n",
      "100\n",
      "43 done!\n",
      "Running model\n",
      "100\n",
      "44 done!\n",
      "Running model\n",
      "100\n",
      "45 done!\n",
      "Running model\n",
      "100\n",
      "46 done!\n",
      "Running model\n",
      "100\n",
      "47 done!\n",
      "Running model\n",
      "100\n",
      "48 done!\n",
      "Running model\n"
     ]
    },
    {
     "ename": "KeyboardInterrupt",
     "evalue": "",
     "output_type": "error",
     "traceback": [
      "\u001b[0;31m---------------------------------------------------------------------------\u001b[0m",
      "\u001b[0;31mKeyboardInterrupt\u001b[0m                         Traceback (most recent call last)",
      "\u001b[0;32m<ipython-input-16-26b73e73c415>\u001b[0m in \u001b[0;36m<module>\u001b[0;34m()\u001b[0m\n\u001b[1;32m      5\u001b[0m     \u001b[0mtemp\u001b[0m \u001b[0;34m=\u001b[0m \u001b[0mset\u001b[0m\u001b[0;34m(\u001b[0m\u001b[0mtf\u001b[0m\u001b[0;34m.\u001b[0m\u001b[0mglobal_variables\u001b[0m\u001b[0;34m(\u001b[0m\u001b[0;34m)\u001b[0m\u001b[0;34m)\u001b[0m\u001b[0;34m\u001b[0m\u001b[0m\n\u001b[1;32m      6\u001b[0m     \u001b[0moutput_logits\u001b[0m\u001b[0;34m=\u001b[0m\u001b[0;34m(\u001b[0m\u001b[0mdnc_trainer\u001b[0m\u001b[0;34m.\u001b[0m\u001b[0mrun_model\u001b[0m\u001b[0;34m(\u001b[0m\u001b[0mfinal_tweets\u001b[0m\u001b[0;34m[\u001b[0m\u001b[0;36m0\u001b[0m\u001b[0;34m]\u001b[0m\u001b[0;34m)\u001b[0m\u001b[0;34m)\u001b[0m\u001b[0;34m\u001b[0m\u001b[0m\n\u001b[0;32m----> 7\u001b[0;31m     \u001b[0msess\u001b[0m\u001b[0;34m.\u001b[0m\u001b[0mrun\u001b[0m\u001b[0;34m(\u001b[0m\u001b[0mtf\u001b[0m\u001b[0;34m.\u001b[0m\u001b[0mvariables_initializer\u001b[0m\u001b[0;34m(\u001b[0m\u001b[0mset\u001b[0m\u001b[0;34m(\u001b[0m\u001b[0mtf\u001b[0m\u001b[0;34m.\u001b[0m\u001b[0mall_variables\u001b[0m\u001b[0;34m(\u001b[0m\u001b[0;34m)\u001b[0m\u001b[0;34m)\u001b[0m \u001b[0;34m-\u001b[0m \u001b[0mtemp\u001b[0m\u001b[0;34m)\u001b[0m\u001b[0;34m)\u001b[0m\u001b[0;34m\u001b[0m\u001b[0m\n\u001b[0m\u001b[1;32m      8\u001b[0m     \u001b[0mprediction\u001b[0m \u001b[0;34m=\u001b[0m \u001b[0mtf\u001b[0m\u001b[0;34m.\u001b[0m\u001b[0margmax\u001b[0m\u001b[0;34m(\u001b[0m\u001b[0moutput_logits\u001b[0m\u001b[0;34m[\u001b[0m\u001b[0;34m:\u001b[0m\u001b[0;34m,\u001b[0m\u001b[0mFLAGS\u001b[0m\u001b[0;34m.\u001b[0m\u001b[0mmax_lenght\u001b[0m\u001b[0;34m-\u001b[0m\u001b[0;36m1\u001b[0m\u001b[0;34m]\u001b[0m\u001b[0;34m,\u001b[0m \u001b[0;36m1\u001b[0m\u001b[0;34m)\u001b[0m\u001b[0;34m\u001b[0m\u001b[0m\n\u001b[1;32m      9\u001b[0m     \u001b[0;31m#predicted_batch = sess.run(prediction)\u001b[0m\u001b[0;34m\u001b[0m\u001b[0;34m\u001b[0m\u001b[0m\n",
      "\u001b[0;32m~/anaconda3/envs/ada/lib/python3.6/site-packages/tensorflow/python/client/session.py\u001b[0m in \u001b[0;36mrun\u001b[0;34m(self, fetches, feed_dict, options, run_metadata)\u001b[0m\n\u001b[1;32m    887\u001b[0m     \u001b[0;32mtry\u001b[0m\u001b[0;34m:\u001b[0m\u001b[0;34m\u001b[0m\u001b[0m\n\u001b[1;32m    888\u001b[0m       result = self._run(None, fetches, feed_dict, options_ptr,\n\u001b[0;32m--> 889\u001b[0;31m                          run_metadata_ptr)\n\u001b[0m\u001b[1;32m    890\u001b[0m       \u001b[0;32mif\u001b[0m \u001b[0mrun_metadata\u001b[0m\u001b[0;34m:\u001b[0m\u001b[0;34m\u001b[0m\u001b[0m\n\u001b[1;32m    891\u001b[0m         \u001b[0mproto_data\u001b[0m \u001b[0;34m=\u001b[0m \u001b[0mtf_session\u001b[0m\u001b[0;34m.\u001b[0m\u001b[0mTF_GetBuffer\u001b[0m\u001b[0;34m(\u001b[0m\u001b[0mrun_metadata_ptr\u001b[0m\u001b[0;34m)\u001b[0m\u001b[0;34m\u001b[0m\u001b[0m\n",
      "\u001b[0;32m~/anaconda3/envs/ada/lib/python3.6/site-packages/tensorflow/python/client/session.py\u001b[0m in \u001b[0;36m_run\u001b[0;34m(self, handle, fetches, feed_dict, options, run_metadata)\u001b[0m\n\u001b[1;32m   1118\u001b[0m     \u001b[0;32mif\u001b[0m \u001b[0mfinal_fetches\u001b[0m \u001b[0;32mor\u001b[0m \u001b[0mfinal_targets\u001b[0m \u001b[0;32mor\u001b[0m \u001b[0;34m(\u001b[0m\u001b[0mhandle\u001b[0m \u001b[0;32mand\u001b[0m \u001b[0mfeed_dict_tensor\u001b[0m\u001b[0;34m)\u001b[0m\u001b[0;34m:\u001b[0m\u001b[0;34m\u001b[0m\u001b[0m\n\u001b[1;32m   1119\u001b[0m       results = self._do_run(handle, final_targets, final_fetches,\n\u001b[0;32m-> 1120\u001b[0;31m                              feed_dict_tensor, options, run_metadata)\n\u001b[0m\u001b[1;32m   1121\u001b[0m     \u001b[0;32melse\u001b[0m\u001b[0;34m:\u001b[0m\u001b[0;34m\u001b[0m\u001b[0m\n\u001b[1;32m   1122\u001b[0m       \u001b[0mresults\u001b[0m \u001b[0;34m=\u001b[0m \u001b[0;34m[\u001b[0m\u001b[0;34m]\u001b[0m\u001b[0;34m\u001b[0m\u001b[0m\n",
      "\u001b[0;32m~/anaconda3/envs/ada/lib/python3.6/site-packages/tensorflow/python/client/session.py\u001b[0m in \u001b[0;36m_do_run\u001b[0;34m(self, handle, target_list, fetch_list, feed_dict, options, run_metadata)\u001b[0m\n\u001b[1;32m   1315\u001b[0m     \u001b[0;32mif\u001b[0m \u001b[0mhandle\u001b[0m \u001b[0;32mis\u001b[0m \u001b[0;32mNone\u001b[0m\u001b[0;34m:\u001b[0m\u001b[0;34m\u001b[0m\u001b[0m\n\u001b[1;32m   1316\u001b[0m       return self._do_call(_run_fn, self._session, feeds, fetches, targets,\n\u001b[0;32m-> 1317\u001b[0;31m                            options, run_metadata)\n\u001b[0m\u001b[1;32m   1318\u001b[0m     \u001b[0;32melse\u001b[0m\u001b[0;34m:\u001b[0m\u001b[0;34m\u001b[0m\u001b[0m\n\u001b[1;32m   1319\u001b[0m       \u001b[0;32mreturn\u001b[0m \u001b[0mself\u001b[0m\u001b[0;34m.\u001b[0m\u001b[0m_do_call\u001b[0m\u001b[0;34m(\u001b[0m\u001b[0m_prun_fn\u001b[0m\u001b[0;34m,\u001b[0m \u001b[0mself\u001b[0m\u001b[0;34m.\u001b[0m\u001b[0m_session\u001b[0m\u001b[0;34m,\u001b[0m \u001b[0mhandle\u001b[0m\u001b[0;34m,\u001b[0m \u001b[0mfeeds\u001b[0m\u001b[0;34m,\u001b[0m \u001b[0mfetches\u001b[0m\u001b[0;34m)\u001b[0m\u001b[0;34m\u001b[0m\u001b[0m\n",
      "\u001b[0;32m~/anaconda3/envs/ada/lib/python3.6/site-packages/tensorflow/python/client/session.py\u001b[0m in \u001b[0;36m_do_call\u001b[0;34m(self, fn, *args)\u001b[0m\n\u001b[1;32m   1321\u001b[0m   \u001b[0;32mdef\u001b[0m \u001b[0m_do_call\u001b[0m\u001b[0;34m(\u001b[0m\u001b[0mself\u001b[0m\u001b[0;34m,\u001b[0m \u001b[0mfn\u001b[0m\u001b[0;34m,\u001b[0m \u001b[0;34m*\u001b[0m\u001b[0margs\u001b[0m\u001b[0;34m)\u001b[0m\u001b[0;34m:\u001b[0m\u001b[0;34m\u001b[0m\u001b[0m\n\u001b[1;32m   1322\u001b[0m     \u001b[0;32mtry\u001b[0m\u001b[0;34m:\u001b[0m\u001b[0;34m\u001b[0m\u001b[0m\n\u001b[0;32m-> 1323\u001b[0;31m       \u001b[0;32mreturn\u001b[0m \u001b[0mfn\u001b[0m\u001b[0;34m(\u001b[0m\u001b[0;34m*\u001b[0m\u001b[0margs\u001b[0m\u001b[0;34m)\u001b[0m\u001b[0;34m\u001b[0m\u001b[0m\n\u001b[0m\u001b[1;32m   1324\u001b[0m     \u001b[0;32mexcept\u001b[0m \u001b[0merrors\u001b[0m\u001b[0;34m.\u001b[0m\u001b[0mOpError\u001b[0m \u001b[0;32mas\u001b[0m \u001b[0me\u001b[0m\u001b[0;34m:\u001b[0m\u001b[0;34m\u001b[0m\u001b[0m\n\u001b[1;32m   1325\u001b[0m       \u001b[0mmessage\u001b[0m \u001b[0;34m=\u001b[0m \u001b[0mcompat\u001b[0m\u001b[0;34m.\u001b[0m\u001b[0mas_text\u001b[0m\u001b[0;34m(\u001b[0m\u001b[0me\u001b[0m\u001b[0;34m.\u001b[0m\u001b[0mmessage\u001b[0m\u001b[0;34m)\u001b[0m\u001b[0;34m\u001b[0m\u001b[0m\n",
      "\u001b[0;32m~/anaconda3/envs/ada/lib/python3.6/site-packages/tensorflow/python/client/session.py\u001b[0m in \u001b[0;36m_run_fn\u001b[0;34m(session, feed_dict, fetch_list, target_list, options, run_metadata)\u001b[0m\n\u001b[1;32m   1300\u001b[0m           return tf_session.TF_Run(session, options,\n\u001b[1;32m   1301\u001b[0m                                    \u001b[0mfeed_dict\u001b[0m\u001b[0;34m,\u001b[0m \u001b[0mfetch_list\u001b[0m\u001b[0;34m,\u001b[0m \u001b[0mtarget_list\u001b[0m\u001b[0;34m,\u001b[0m\u001b[0;34m\u001b[0m\u001b[0m\n\u001b[0;32m-> 1302\u001b[0;31m                                    status, run_metadata)\n\u001b[0m\u001b[1;32m   1303\u001b[0m \u001b[0;34m\u001b[0m\u001b[0m\n\u001b[1;32m   1304\u001b[0m     \u001b[0;32mdef\u001b[0m \u001b[0m_prun_fn\u001b[0m\u001b[0;34m(\u001b[0m\u001b[0msession\u001b[0m\u001b[0;34m,\u001b[0m \u001b[0mhandle\u001b[0m\u001b[0;34m,\u001b[0m \u001b[0mfeed_dict\u001b[0m\u001b[0;34m,\u001b[0m \u001b[0mfetch_list\u001b[0m\u001b[0;34m)\u001b[0m\u001b[0;34m:\u001b[0m\u001b[0;34m\u001b[0m\u001b[0m\n",
      "\u001b[0;31mKeyboardInterrupt\u001b[0m: "
     ]
    }
   ],
   "source": [
    "final_prediction_asd = []\n",
    "for iteration in range(0, 100):\n",
    "    dnc_trainer = DNCTrainer(FLAGS)\n",
    "    final_tweets = next(get_generator(tweet_glove))\n",
    "    temp = set(tf.global_variables())\n",
    "    output_logits=(dnc_trainer.run_model(final_tweets[0]))\n",
    "    sess.run(tf.variables_initializer(set(tf.all_variables()) - temp))\n",
    "    prediction = tf.argmax(output_logits[:,FLAGS.max_lenght-1], 1)\n",
    "    #predicted_batch = sess.run(prediction)\n",
    "    final_prediction_asd.append(prediction)\n",
    "    print(len(final_tweets[0]))\n",
    "    print(str(iteration) + \" done!\")\n",
    "    #if iteration > 1:\n",
    "            #break"
   ]
  },
  {
   "cell_type": "code",
   "execution_count": null,
   "metadata": {
    "collapsed": true
   },
   "outputs": [],
   "source": [
    "sess.run(final_prediction_asd[0])"
   ]
  },
  {
   "cell_type": "code",
   "execution_count": null,
   "metadata": {
    "collapsed": true
   },
   "outputs": [],
   "source": [
    "sess.run(final_prediction_asd[0])"
   ]
  },
  {
   "cell_type": "code",
   "execution_count": 11,
   "metadata": {
    "collapsed": true
   },
   "outputs": [],
   "source": [
    "trainable_variables = tf.trainable_variables()"
   ]
  },
  {
   "cell_type": "code",
   "execution_count": 12,
   "metadata": {},
   "outputs": [
    {
     "data": {
      "text/plain": [
       "[<tf.Variable 'dnc/lstm/w_gates:0' shape=(656, 1024) dtype=float32_ref>,\n",
       " <tf.Variable 'dnc/lstm/b_gates:0' shape=(1024,) dtype=float32_ref>,\n",
       " <tf.Variable 'dnc/memory_access/write_vectors/w:0' shape=(256, 200) dtype=float32_ref>,\n",
       " <tf.Variable 'dnc/memory_access/write_vectors/b:0' shape=(200,) dtype=float32_ref>,\n",
       " <tf.Variable 'dnc/memory_access/erase_vectors/w:0' shape=(256, 200) dtype=float32_ref>,\n",
       " <tf.Variable 'dnc/memory_access/erase_vectors/b:0' shape=(200,) dtype=float32_ref>,\n",
       " <tf.Variable 'dnc/memory_access/free_gate/w:0' shape=(256, 1) dtype=float32_ref>,\n",
       " <tf.Variable 'dnc/memory_access/free_gate/b:0' shape=(1,) dtype=float32_ref>,\n",
       " <tf.Variable 'dnc/memory_access/allocation_gate/w:0' shape=(256, 1) dtype=float32_ref>,\n",
       " <tf.Variable 'dnc/memory_access/allocation_gate/b:0' shape=(1,) dtype=float32_ref>,\n",
       " <tf.Variable 'dnc/memory_access/write_gate/w:0' shape=(256, 1) dtype=float32_ref>,\n",
       " <tf.Variable 'dnc/memory_access/write_gate/b:0' shape=(1,) dtype=float32_ref>,\n",
       " <tf.Variable 'dnc/memory_access/read_mode/w:0' shape=(256, 3) dtype=float32_ref>,\n",
       " <tf.Variable 'dnc/memory_access/read_mode/b:0' shape=(3,) dtype=float32_ref>,\n",
       " <tf.Variable 'dnc/memory_access/write_keys/w:0' shape=(256, 200) dtype=float32_ref>,\n",
       " <tf.Variable 'dnc/memory_access/write_keys/b:0' shape=(200,) dtype=float32_ref>,\n",
       " <tf.Variable 'dnc/memory_access/write_strengths/w:0' shape=(256, 1) dtype=float32_ref>,\n",
       " <tf.Variable 'dnc/memory_access/write_strengths/b:0' shape=(1,) dtype=float32_ref>,\n",
       " <tf.Variable 'dnc/memory_access/read_keys/w:0' shape=(256, 200) dtype=float32_ref>,\n",
       " <tf.Variable 'dnc/memory_access/read_keys/b:0' shape=(200,) dtype=float32_ref>,\n",
       " <tf.Variable 'dnc/memory_access/read_strengths/w:0' shape=(256, 1) dtype=float32_ref>,\n",
       " <tf.Variable 'dnc/memory_access/read_strengths/b:0' shape=(1,) dtype=float32_ref>,\n",
       " <tf.Variable 'dnc/output_linear/w:0' shape=(456, 2) dtype=float32_ref>,\n",
       " <tf.Variable 'dnc/output_linear/b:0' shape=(2,) dtype=float32_ref>]"
      ]
     },
     "execution_count": 12,
     "metadata": {},
     "output_type": "execute_result"
    }
   ],
   "source": [
    "trainable_variables"
   ]
  },
  {
   "cell_type": "code",
   "execution_count": 13,
   "metadata": {
    "collapsed": true
   },
   "outputs": [],
   "source": [
    "a = tf.global_variables( )"
   ]
  },
  {
   "cell_type": "code",
   "execution_count": 14,
   "metadata": {},
   "outputs": [
    {
     "data": {
      "text/plain": [
       "[<tf.Variable 'dnc/lstm/w_gates:0' shape=(656, 1024) dtype=float32_ref>,\n",
       " <tf.Variable 'dnc/lstm/b_gates:0' shape=(1024,) dtype=float32_ref>,\n",
       " <tf.Variable 'dnc/memory_access/write_vectors/w:0' shape=(256, 200) dtype=float32_ref>,\n",
       " <tf.Variable 'dnc/memory_access/write_vectors/b:0' shape=(200,) dtype=float32_ref>,\n",
       " <tf.Variable 'dnc/memory_access/erase_vectors/w:0' shape=(256, 200) dtype=float32_ref>,\n",
       " <tf.Variable 'dnc/memory_access/erase_vectors/b:0' shape=(200,) dtype=float32_ref>,\n",
       " <tf.Variable 'dnc/memory_access/free_gate/w:0' shape=(256, 1) dtype=float32_ref>,\n",
       " <tf.Variable 'dnc/memory_access/free_gate/b:0' shape=(1,) dtype=float32_ref>,\n",
       " <tf.Variable 'dnc/memory_access/allocation_gate/w:0' shape=(256, 1) dtype=float32_ref>,\n",
       " <tf.Variable 'dnc/memory_access/allocation_gate/b:0' shape=(1,) dtype=float32_ref>,\n",
       " <tf.Variable 'dnc/memory_access/write_gate/w:0' shape=(256, 1) dtype=float32_ref>,\n",
       " <tf.Variable 'dnc/memory_access/write_gate/b:0' shape=(1,) dtype=float32_ref>,\n",
       " <tf.Variable 'dnc/memory_access/read_mode/w:0' shape=(256, 3) dtype=float32_ref>,\n",
       " <tf.Variable 'dnc/memory_access/read_mode/b:0' shape=(3,) dtype=float32_ref>,\n",
       " <tf.Variable 'dnc/memory_access/write_keys/w:0' shape=(256, 200) dtype=float32_ref>,\n",
       " <tf.Variable 'dnc/memory_access/write_keys/b:0' shape=(200,) dtype=float32_ref>,\n",
       " <tf.Variable 'dnc/memory_access/write_strengths/w:0' shape=(256, 1) dtype=float32_ref>,\n",
       " <tf.Variable 'dnc/memory_access/write_strengths/b:0' shape=(1,) dtype=float32_ref>,\n",
       " <tf.Variable 'dnc/memory_access/read_keys/w:0' shape=(256, 200) dtype=float32_ref>,\n",
       " <tf.Variable 'dnc/memory_access/read_keys/b:0' shape=(200,) dtype=float32_ref>,\n",
       " <tf.Variable 'dnc/memory_access/read_strengths/w:0' shape=(256, 1) dtype=float32_ref>,\n",
       " <tf.Variable 'dnc/memory_access/read_strengths/b:0' shape=(1,) dtype=float32_ref>,\n",
       " <tf.Variable 'dnc/output_linear/w:0' shape=(456, 2) dtype=float32_ref>,\n",
       " <tf.Variable 'dnc/output_linear/b:0' shape=(2,) dtype=float32_ref>,\n",
       " <tf.Variable 'global_step:0' shape=() dtype=int64_ref>,\n",
       " <tf.Variable 'dnc/lstm/w_gates/RMSProp:0' shape=(656, 1024) dtype=float32_ref>,\n",
       " <tf.Variable 'dnc/lstm/w_gates/RMSProp_1:0' shape=(656, 1024) dtype=float32_ref>,\n",
       " <tf.Variable 'dnc/lstm/b_gates/RMSProp:0' shape=(1024,) dtype=float32_ref>,\n",
       " <tf.Variable 'dnc/lstm/b_gates/RMSProp_1:0' shape=(1024,) dtype=float32_ref>,\n",
       " <tf.Variable 'dnc/memory_access/write_vectors/w/RMSProp:0' shape=(256, 200) dtype=float32_ref>,\n",
       " <tf.Variable 'dnc/memory_access/write_vectors/w/RMSProp_1:0' shape=(256, 200) dtype=float32_ref>,\n",
       " <tf.Variable 'dnc/memory_access/write_vectors/b/RMSProp:0' shape=(200,) dtype=float32_ref>,\n",
       " <tf.Variable 'dnc/memory_access/write_vectors/b/RMSProp_1:0' shape=(200,) dtype=float32_ref>,\n",
       " <tf.Variable 'dnc/memory_access/erase_vectors/w/RMSProp:0' shape=(256, 200) dtype=float32_ref>,\n",
       " <tf.Variable 'dnc/memory_access/erase_vectors/w/RMSProp_1:0' shape=(256, 200) dtype=float32_ref>,\n",
       " <tf.Variable 'dnc/memory_access/erase_vectors/b/RMSProp:0' shape=(200,) dtype=float32_ref>,\n",
       " <tf.Variable 'dnc/memory_access/erase_vectors/b/RMSProp_1:0' shape=(200,) dtype=float32_ref>,\n",
       " <tf.Variable 'dnc/memory_access/free_gate/w/RMSProp:0' shape=(256, 1) dtype=float32_ref>,\n",
       " <tf.Variable 'dnc/memory_access/free_gate/w/RMSProp_1:0' shape=(256, 1) dtype=float32_ref>,\n",
       " <tf.Variable 'dnc/memory_access/free_gate/b/RMSProp:0' shape=(1,) dtype=float32_ref>,\n",
       " <tf.Variable 'dnc/memory_access/free_gate/b/RMSProp_1:0' shape=(1,) dtype=float32_ref>,\n",
       " <tf.Variable 'dnc/memory_access/allocation_gate/w/RMSProp:0' shape=(256, 1) dtype=float32_ref>,\n",
       " <tf.Variable 'dnc/memory_access/allocation_gate/w/RMSProp_1:0' shape=(256, 1) dtype=float32_ref>,\n",
       " <tf.Variable 'dnc/memory_access/allocation_gate/b/RMSProp:0' shape=(1,) dtype=float32_ref>,\n",
       " <tf.Variable 'dnc/memory_access/allocation_gate/b/RMSProp_1:0' shape=(1,) dtype=float32_ref>,\n",
       " <tf.Variable 'dnc/memory_access/write_gate/w/RMSProp:0' shape=(256, 1) dtype=float32_ref>,\n",
       " <tf.Variable 'dnc/memory_access/write_gate/w/RMSProp_1:0' shape=(256, 1) dtype=float32_ref>,\n",
       " <tf.Variable 'dnc/memory_access/write_gate/b/RMSProp:0' shape=(1,) dtype=float32_ref>,\n",
       " <tf.Variable 'dnc/memory_access/write_gate/b/RMSProp_1:0' shape=(1,) dtype=float32_ref>,\n",
       " <tf.Variable 'dnc/memory_access/read_mode/w/RMSProp:0' shape=(256, 3) dtype=float32_ref>,\n",
       " <tf.Variable 'dnc/memory_access/read_mode/w/RMSProp_1:0' shape=(256, 3) dtype=float32_ref>,\n",
       " <tf.Variable 'dnc/memory_access/read_mode/b/RMSProp:0' shape=(3,) dtype=float32_ref>,\n",
       " <tf.Variable 'dnc/memory_access/read_mode/b/RMSProp_1:0' shape=(3,) dtype=float32_ref>,\n",
       " <tf.Variable 'dnc/memory_access/write_keys/w/RMSProp:0' shape=(256, 200) dtype=float32_ref>,\n",
       " <tf.Variable 'dnc/memory_access/write_keys/w/RMSProp_1:0' shape=(256, 200) dtype=float32_ref>,\n",
       " <tf.Variable 'dnc/memory_access/write_keys/b/RMSProp:0' shape=(200,) dtype=float32_ref>,\n",
       " <tf.Variable 'dnc/memory_access/write_keys/b/RMSProp_1:0' shape=(200,) dtype=float32_ref>,\n",
       " <tf.Variable 'dnc/memory_access/write_strengths/w/RMSProp:0' shape=(256, 1) dtype=float32_ref>,\n",
       " <tf.Variable 'dnc/memory_access/write_strengths/w/RMSProp_1:0' shape=(256, 1) dtype=float32_ref>,\n",
       " <tf.Variable 'dnc/memory_access/write_strengths/b/RMSProp:0' shape=(1,) dtype=float32_ref>,\n",
       " <tf.Variable 'dnc/memory_access/write_strengths/b/RMSProp_1:0' shape=(1,) dtype=float32_ref>,\n",
       " <tf.Variable 'dnc/memory_access/read_keys/w/RMSProp:0' shape=(256, 200) dtype=float32_ref>,\n",
       " <tf.Variable 'dnc/memory_access/read_keys/w/RMSProp_1:0' shape=(256, 200) dtype=float32_ref>,\n",
       " <tf.Variable 'dnc/memory_access/read_keys/b/RMSProp:0' shape=(200,) dtype=float32_ref>,\n",
       " <tf.Variable 'dnc/memory_access/read_keys/b/RMSProp_1:0' shape=(200,) dtype=float32_ref>,\n",
       " <tf.Variable 'dnc/memory_access/read_strengths/w/RMSProp:0' shape=(256, 1) dtype=float32_ref>,\n",
       " <tf.Variable 'dnc/memory_access/read_strengths/w/RMSProp_1:0' shape=(256, 1) dtype=float32_ref>,\n",
       " <tf.Variable 'dnc/memory_access/read_strengths/b/RMSProp:0' shape=(1,) dtype=float32_ref>,\n",
       " <tf.Variable 'dnc/memory_access/read_strengths/b/RMSProp_1:0' shape=(1,) dtype=float32_ref>,\n",
       " <tf.Variable 'dnc/output_linear/w/RMSProp:0' shape=(456, 2) dtype=float32_ref>,\n",
       " <tf.Variable 'dnc/output_linear/w/RMSProp_1:0' shape=(456, 2) dtype=float32_ref>,\n",
       " <tf.Variable 'dnc/output_linear/b/RMSProp:0' shape=(2,) dtype=float32_ref>,\n",
       " <tf.Variable 'dnc/output_linear/b/RMSProp_1:0' shape=(2,) dtype=float32_ref>]"
      ]
     },
     "execution_count": 14,
     "metadata": {},
     "output_type": "execute_result"
    }
   ],
   "source": [
    "a"
   ]
  },
  {
   "cell_type": "code",
   "execution_count": 15,
   "metadata": {
    "scrolled": true
   },
   "outputs": [
    {
     "data": {
      "text/plain": [
       "73"
      ]
     },
     "execution_count": 15,
     "metadata": {},
     "output_type": "execute_result"
    }
   ],
   "source": [
    "len(a)"
   ]
  },
  {
   "cell_type": "code",
   "execution_count": null,
   "metadata": {
    "collapsed": true
   },
   "outputs": [],
   "source": [
    "print(sess.run(tf.report_uninitialized_variables()))"
   ]
  },
  {
   "cell_type": "code",
   "execution_count": null,
   "metadata": {
    "collapsed": true
   },
   "outputs": [],
   "source": [
    "list_names = sess.run(tf.report_uninitialized_variables())"
   ]
  },
  {
   "cell_type": "code",
   "execution_count": null,
   "metadata": {
    "collapsed": true
   },
   "outputs": [],
   "source": [
    "len(list_names)"
   ]
  },
  {
   "cell_type": "code",
   "execution_count": null,
   "metadata": {
    "collapsed": true
   },
   "outputs": [],
   "source": [
    "tf.get_variable(list_names[0])"
   ]
  },
  {
   "cell_type": "code",
   "execution_count": null,
   "metadata": {
    "collapsed": true
   },
   "outputs": [],
   "source": [
    "trainable_variables"
   ]
  },
  {
   "cell_type": "code",
   "execution_count": null,
   "metadata": {
    "collapsed": true
   },
   "outputs": [],
   "source": [
    "sess.run(final_prediction_asd[0])"
   ]
  },
  {
   "cell_type": "code",
   "execution_count": null,
   "metadata": {
    "collapsed": true
   },
   "outputs": [],
   "source": [
    "final = []\n",
    "for i in range(0, 100):\n",
    "    final.extend(sess.run(final_prediction_asd[i]))\n"
   ]
  },
  {
   "cell_type": "code",
   "execution_count": null,
   "metadata": {
    "collapsed": true
   },
   "outputs": [],
   "source": [
    "for i,n in enumerate(final):\n",
    "    if n == 0:\n",
    "        final[i]=-1"
   ]
  },
  {
   "cell_type": "code",
   "execution_count": null,
   "metadata": {
    "collapsed": true
   },
   "outputs": [],
   "source": [
    "ids = np.arange(1,10001)"
   ]
  },
  {
   "cell_type": "code",
   "execution_count": null,
   "metadata": {
    "collapsed": true
   },
   "outputs": [],
   "source": [
    "ids"
   ]
  },
  {
   "cell_type": "code",
   "execution_count": null,
   "metadata": {
    "collapsed": true
   },
   "outputs": [],
   "source": [
    "import csv\n",
    "def create_csv_submission(ids, y_pred, name):\n",
    "    \"\"\"\n",
    "    Creates an output file in csv format for submission to kaggle\n",
    "    Arguments: ids (event ids associated with each prediction)\n",
    "               y_pred (predicted class labels)\n",
    "               name (string name of .csv output file to be created)\n",
    "    \"\"\"\n",
    "    with open(name, 'w') as csvfile:\n",
    "        fieldnames = ['Id', 'Prediction']\n",
    "        writer = csv.DictWriter(csvfile, delimiter=\",\", fieldnames=fieldnames)\n",
    "        writer.writeheader()\n",
    "        for r1, r2 in zip(ids, y_pred):\n",
    "            writer.writerow({'Id':int(r1),'Prediction':int(r2)})"
   ]
  },
  {
   "cell_type": "code",
   "execution_count": null,
   "metadata": {
    "collapsed": true
   },
   "outputs": [],
   "source": [
    "create_csv_submission(ids,final,'First_submission.csv')"
   ]
  },
  {
   "cell_type": "code",
   "execution_count": null,
   "metadata": {
    "collapsed": true
   },
   "outputs": [],
   "source": []
  }
 ],
 "metadata": {
  "kernelspec": {
   "display_name": "Python [conda env:ada]",
   "language": "python",
   "name": "conda-env-ada-py"
  },
  "language_info": {
   "codemirror_mode": {
    "name": "ipython",
    "version": 3
   },
   "file_extension": ".py",
   "mimetype": "text/x-python",
   "name": "python",
   "nbconvert_exporter": "python",
   "pygments_lexer": "ipython3",
   "version": "3.6.2"
  }
 },
 "nbformat": 4,
 "nbformat_minor": 2
}
