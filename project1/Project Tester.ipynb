{
 "cells": [
  {
   "cell_type": "code",
   "execution_count": 1,
   "metadata": {},
   "outputs": [],
   "source": [
    "from utils.proj1_helpers import load_csv_data, predict_labels, create_csv_submission, cross_validation_visualization, sort_predictions\n",
    "from utils.preprocessing import adjust_features, nan_to_mean, standardize, split_jets\n",
    "from utils.train_utils import build_poly, get_lambda, get_degree\n",
    "\n",
    "from utils.implementations import ridge_regression, logistic_regression, build_k_indices, cross_validation, least_squares, least_squares_sgd, least_squares_gd,reg_logistic_regression\n",
    "import time\n",
    "import numpy as np"
   ]
  },
  {
   "cell_type": "code",
   "execution_count": 2,
   "metadata": {},
   "outputs": [],
   "source": [
    "train_path = './data/train.csv'\n",
    "test_path = './data/test.csv'\n",
    "OUTPUT = 'jet_pred.csv'"
   ]
  },
  {
   "cell_type": "code",
   "execution_count": null,
   "metadata": {},
   "outputs": [
    {
     "name": "stdout",
     "output_type": "stream",
     "text": [
      "Loading datasets\n"
     ]
    }
   ],
   "source": [
    "\n",
    "# Loading datasets\n",
    "start_time = time.time()\n",
    "print(\"Loading datasets\")\n",
    "train_y, train_x, train_ids = load_csv_data(train_path)\n",
    "test_y, test_x, idstest_ids = load_csv_data(test_path)\n",
    "print(\"Datasets loaded in: \" + str(time.time() - start_time))"
   ]
  },
  {
   "cell_type": "code",
   "execution_count": null,
   "metadata": {},
   "outputs": [],
   "source": [
    "x_jets_train, \\\n",
    "x_jets_test, \\\n",
    "y_jets_train, \\\n",
    "ids = split_jets(train_x, train_y, test_x, test_y, idstest_ids)"
   ]
  },
  {
   "cell_type": "code",
   "execution_count": null,
   "metadata": {},
   "outputs": [],
   "source": [
    "x_jets_train, x_jets_test = adjust_features(x_jets_train, x_jets_test)"
   ]
  },
  {
   "cell_type": "code",
   "execution_count": null,
   "metadata": {},
   "outputs": [],
   "source": [
    "px_train = []\n",
    "px_test = []\n",
    "ws = []\n",
    "losses = []\n",
    "preds = []"
   ]
  },
  {
   "cell_type": "code",
   "execution_count": null,
   "metadata": {
    "scrolled": true
   },
   "outputs": [],
   "source": [
    "for i in range(len(x_jets_train)):\n",
    "\n",
    "    # Getting correct Lambda\n",
    "    lambda_ = get_lambda(i)\n",
    "    # Getting correct Degree\n",
    "    degree = get_degree(i)\n",
    "\n",
    "    # Standardizing dataset\n",
    "    x_jets_train[i], x_jets_test[i] = standardize(x_jets_train[i], x_jets_test[i])\n",
    "\n",
    "    # import pandas as pd\n",
    "    # import matplotlib.pyplot as plt\n",
    "    # df = pd.DataFrame(x_jets_train[i])\n",
    "    # df.hist()\n",
    "    # plt.show()\n",
    "    \n",
    "    \n",
    "    \n",
    "    # Building polynomial features\n",
    "    px_train.append(build_poly(degree=degree,x=x_jets_train[i]))\n",
    "    px_test.append(build_poly(degree=degree,x=x_jets_test[i]))\n",
    "    \n",
    "    initial_w = np.zeros((px_train[i].shape[1]))\n",
    "    #gamma = 1 / px_train[i].shape[1]\n",
    "    # Training model\n",
    "    w, loss = ridge_regression(lambda_=lambda_, tx=px_train[i], y=y_jets_train[i])\n",
    "    #w, loss = least_squares(y=y_jets_train[i],tx=px_train[i])\n",
    "    #w, loss = logistic_regression(y=y_jets_train[i], tx=px_train[i], initial_w = None, max_iters=10000, gamma = 0.0000001 )\n",
    "    print(loss)\n",
    "    ws.append(w)\n",
    "    losses.append(loss)\n",
    "\n",
    "    # Predicting labels\n",
    "    preds.append(predict_labels(w, px_test[i]))\n"
   ]
  },
  {
   "cell_type": "markdown",
   "metadata": {},
   "source": [
    "- 4312.79911789 - 0\n",
    "- 31460.6064 -1\n",
    "- 1820.590 - 2\n",
    "- 31948.875 -3\n",
    "- 797.932472075 -4\n",
    "- 18879.0641026 -5\n",
    "- 335.232308935 -6\n",
    "- 8780.58062848 -7"
   ]
  },
  {
   "cell_type": "markdown",
   "metadata": {},
   "source": [
    "0.0827023095941\n",
    "0.276493146961\n",
    "0.126621706219\n",
    "0.293712797236\n",
    "0.132876940278\n",
    "0.244537755361\n",
    "0.0829735720619\n",
    "0.249172940917"
   ]
  },
  {
   "cell_type": "code",
   "execution_count": null,
   "metadata": {},
   "outputs": [],
   "source": [
    "len(ids)"
   ]
  },
  {
   "cell_type": "code",
   "execution_count": null,
   "metadata": {},
   "outputs": [],
   "source": [
    "# Sorting predictions\n",
    "ids, preds = sort_predictions(ids, preds)\n",
    "print(\"Creating submission\")\n"
   ]
  },
  {
   "cell_type": "code",
   "execution_count": null,
   "metadata": {},
   "outputs": [],
   "source": [
    "len(preds)"
   ]
  },
  {
   "cell_type": "code",
   "execution_count": null,
   "metadata": {},
   "outputs": [],
   "source": [
    "len(ids)"
   ]
  },
  {
   "cell_type": "code",
   "execution_count": null,
   "metadata": {},
   "outputs": [],
   "source": [
    "# Creating output files\n",
    "create_csv_submission(ids, preds, OUTPUT)\n",
    "print(\"Created submission\")"
   ]
  },
  {
   "cell_type": "code",
   "execution_count": null,
   "metadata": {},
   "outputs": [],
   "source": []
  }
 ],
 "metadata": {
  "kernelspec": {
   "display_name": "Python 3",
   "language": "python",
   "name": "python3"
  },
  "language_info": {
   "codemirror_mode": {
    "name": "ipython",
    "version": 3
   },
   "file_extension": ".py",
   "mimetype": "text/x-python",
   "name": "python",
   "nbconvert_exporter": "python",
   "pygments_lexer": "ipython3",
   "version": "3.6.2"
  }
 },
 "nbformat": 4,
 "nbformat_minor": 2
}
