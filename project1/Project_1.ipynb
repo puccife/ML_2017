{
 "cells": [
  {
   "cell_type": "markdown",
   "metadata": {},
   "source": [
    "# Project 1\n",
    "**Finding the Higgs Boson**"
   ]
  },
  {
   "cell_type": "markdown",
   "metadata": {},
   "source": [
    "## Importing libs and modules"
   ]
  },
  {
   "cell_type": "code",
   "execution_count": 1,
   "metadata": {},
   "outputs": [],
   "source": [
    "%matplotlib inline\n",
    "import pandas as pd\n",
    "import numpy as np\n",
    "import matplotlib.pyplot as plt\n",
    "%load_ext autoreload\n",
    "%autoreload 2\n",
    "from proj1_helpers import *\n",
    "from implementations import *\n",
    "from plots import *"
   ]
  },
  {
   "cell_type": "markdown",
   "metadata": {},
   "source": [
    "### Datasets path"
   ]
  },
  {
   "cell_type": "code",
   "execution_count": 2,
   "metadata": {
    "collapsed": true
   },
   "outputs": [],
   "source": [
    "train_path = './data/train.csv'\n",
    "test_path = './data/test.csv'"
   ]
  },
  {
   "cell_type": "markdown",
   "metadata": {},
   "source": [
    "## Loading datasets"
   ]
  },
  {
   "cell_type": "code",
   "execution_count": 3,
   "metadata": {
    "collapsed": true
   },
   "outputs": [],
   "source": [
    "y, x, ids = load_csv_data(train_path)\n",
    "ytest, testx, idstest = load_csv_data(test_path)"
   ]
  },
  {
   "cell_type": "code",
   "execution_count": null,
   "metadata": {},
   "outputs": [],
   "source": []
  },
  {
   "cell_type": "code",
   "execution_count": null,
   "metadata": {},
   "outputs": [],
   "source": []
  },
  {
   "cell_type": "code",
   "execution_count": null,
   "metadata": {
    "collapsed": true
   },
   "outputs": [],
   "source": []
  },
  {
   "cell_type": "code",
   "execution_count": null,
   "metadata": {},
   "outputs": [],
   "source": []
  },
  {
   "cell_type": "markdown",
   "metadata": {},
   "source": [
    "## Angle between arrays"
   ]
  },
  {
   "cell_type": "code",
   "execution_count": 4,
   "metadata": {
    "collapsed": true
   },
   "outputs": [],
   "source": [
    "def angle(vector1, vector2):\n",
    "    # cos(theta) = v1 dot v2 / ||v1|| * ||v2||\n",
    "    import numpy\n",
    "    numerator = numpy.dot(vector1, vector2)\n",
    "    denominator = numpy.linalg.norm(vector1) * numpy.linalg.norm(vector2)\n",
    "    x = numerator / denominator if denominator else 0\n",
    "    return numpy.arccos(x)"
   ]
  },
  {
   "cell_type": "markdown",
   "metadata": {},
   "source": [
    "# Analysis on features"
   ]
  },
  {
   "cell_type": "code",
   "execution_count": 5,
   "metadata": {
    "collapsed": true
   },
   "outputs": [],
   "source": [
    "# ------------------------------------problematics--------------------------------------\n",
    "# DERIVATIVE WITH PROBS\n",
    "prob_1 = 4\n",
    "prob_2 = 5\n",
    "prob_3 = 6\n",
    "prob_12 = 12\n",
    "# PRIMITIVE WITH PROBS\n",
    "pri_jet_pt = 23\n",
    "pri_jet_eta = 24\n",
    "pri_jet_phi = 25\n",
    "pri_sub_pt = 26\n",
    "pri_sub_eta = 27\n",
    "pri_sub_phi = 28\n",
    "pri_all_pt = 29\n",
    "\n",
    "# --------------------------------------good ones----------------------------------------\n",
    "# DERIVATIVE\n",
    "DER_mass_MMC = 0\n",
    "DER_mass_transverse_met_lep = 1\n",
    "DER_mass_vis = 2\n",
    "DER_pt_h = 3\n",
    "DER_deltar_tau_lep = 7\n",
    "DER_pt_tot = 8\n",
    "DER_sum_pt = 9\n",
    "DER_pt_ratio_lep_tau = 10\n",
    "DER_met_phi_centrality = 11\n",
    "met_phi = 20\n",
    "# PRIMITIVE\n",
    "pri_tau_pt = 13\n",
    "pri_tau_eta = 14\n",
    "pri_tau_phi = 15\n",
    "# ---------------\n",
    "pri_lep_pt = 16\n",
    "pri_lep_eta = 17\n",
    "pri_lep_phi = 18\n",
    "\n",
    "# Momentum vectors for TAU\n",
    "px_tau = x[:,pri_tau_pt]*np.sin(x[:,pri_tau_phi])\n",
    "py_tau = x[:,pri_tau_pt]*np.cos(x[:,pri_tau_phi])\n",
    "pz_tau = x[:,pri_tau_pt]*np.sinh(x[:,pri_tau_eta])\n",
    "mod_tau = x[:,pri_tau_pt]*np.cosh(x[:,pri_tau_eta])\n",
    "# Magnitude of TAU\n",
    "#magnitude_tau = np.sqrt(np.square(px_tau) + np.square(py_tau) + np.square(pz_tau))\n",
    "#magnitude_tau_square = (np.square(px_tau) + np.square(py_tau) + np.square(pz_tau))\n",
    "# Weinberg angle of TAU\n",
    "#wangle_tau = np.square(np.sin(x[:,pri_tau_phi]))\n",
    "\n",
    "# Momentum vectors for LEP\n",
    "px_lep = x[:,pri_lep_pt]*np.sin(x[:,pri_lep_phi])\n",
    "py_lep = x[:,pri_lep_pt]*np.cos(x[:,pri_lep_phi])\n",
    "pz_lep = x[:,pri_lep_pt]*np.sinh(x[:,pri_lep_eta])\n",
    "mod_lep = x[:,pri_lep_pt]*np.cosh(x[:,pri_lep_eta])\n",
    "# Magnitude of LEP\n",
    "#magnitude_lep = np.sqrt(np.square(px_lep) + np.square(py_lep) + np.square(pz_lep))\n",
    "#magnitude_lep_square = (np.square(px_lep) + np.square(py_lep) + np.square(pz_lep))\n",
    "# Weinberg angle of LEP\n",
    "#wangle_lep = np.square(np.sin(x[:,pri_lep_phi]))\n",
    "\n",
    "px_taut = testx[:,pri_tau_pt]*np.sin(testx[:,pri_tau_phi])\n",
    "py_taut = testx[:,pri_tau_pt]*np.cos(testx[:,pri_tau_phi])\n",
    "pz_taut = testx[:,pri_tau_pt]*np.sinh(testx[:,pri_tau_eta])\n",
    "mod_taut = testx[:,pri_tau_pt]*np.cosh(testx[:,pri_tau_eta])\n",
    "\n",
    "px_lept = testx[:,pri_lep_pt]*np.sin(testx[:,pri_lep_phi])\n",
    "py_lept = testx[:,pri_lep_pt]*np.cos(testx[:,pri_lep_phi])\n",
    "pz_lept = testx[:,pri_lep_pt]*np.sinh(testx[:,pri_lep_eta])\n",
    "mod_lept = testx[:,pri_lep_pt]*np.cosh(testx[:,pri_lep_eta])\n",
    "\n",
    "# Momentum vectors for JET PRIMARY\n",
    "# px_jet = x[:,pri_jet_pt]*np.sin(x[:,pri_jet_phi])\n",
    "# py_jet = x[:,pri_jet_pt]*np.cos(x[:,pri_jet_phi])\n",
    "# pz_jet = x[:,pri_jet_pt]*np.sinh(x[:,pri_jet_eta])\n",
    "# mod_jet = x[:,pri_jet_pt]*np.cosh(x[:,pri_jet_eta])\n",
    "\n",
    "# Momentum vectors for JET SECONDARY\n",
    "# px_sub = x[:,pri_sub_pt]*np.sin(x[:,pri_sub_phi])\n",
    "# py_sub = x[:,pri_sub_pt]*np.cos(x[:,pri_sub_phi])\n",
    "# pz_sub = x[:,pri_sub_pt]*np.sinh(x[:,pri_sub_eta])\n",
    "# mod_sub = x[:,pri_sub_pt]*np.cosh(x[:,pri_sub_eta])"
   ]
  },
  {
   "cell_type": "code",
   "execution_count": 6,
   "metadata": {},
   "outputs": [
    {
     "data": {
      "text/plain": [
       "(568238, 38)"
      ]
     },
     "execution_count": 6,
     "metadata": {},
     "output_type": "execute_result"
    }
   ],
   "source": [
    "x = np.column_stack((x, px_tau))\n",
    "x = np.column_stack((x, py_tau))\n",
    "x = np.column_stack((x, pz_tau))\n",
    "x = np.column_stack((x, mod_tau))\n",
    "x = np.column_stack((x, px_lep))\n",
    "x = np.column_stack((x, py_lep))\n",
    "x = np.column_stack((x, pz_lep))\n",
    "x = np.column_stack((x, mod_lep))\n",
    "\n",
    "testx = np.column_stack((testx, px_taut))\n",
    "testx = np.column_stack((testx, py_taut))\n",
    "testx = np.column_stack((testx, pz_taut))\n",
    "testx = np.column_stack((testx, mod_taut))\n",
    "testx = np.column_stack((testx, px_lept))\n",
    "testx = np.column_stack((testx, py_lept))\n",
    "testx = np.column_stack((testx, pz_lept))\n",
    "testx = np.column_stack((testx, mod_lept))\n",
    "testx.shape"
   ]
  },
  {
   "cell_type": "code",
   "execution_count": null,
   "metadata": {},
   "outputs": [],
   "source": []
  },
  {
   "cell_type": "markdown",
   "metadata": {},
   "source": [
    "## Splitting the data into different jets"
   ]
  },
  {
   "cell_type": "code",
   "execution_count": 7,
   "metadata": {
    "collapsed": true
   },
   "outputs": [],
   "source": [
    "x_jets_0_train = x[x[:,22]==0]\n",
    "x_jets_1_train = x[x[:,22]==1]\n",
    "x_jets_2_train = x[x[:,22]==2]\n",
    "x_jets_3_train = x[x[:,22]==3]\n",
    "x_jets_train_matrix = np.array([x_jets_0_train,x_jets_1_train,x_jets_2_train,x_jets_3_train])"
   ]
  },
  {
   "cell_type": "code",
   "execution_count": 8,
   "metadata": {
    "collapsed": true
   },
   "outputs": [],
   "source": [
    "x_jets_0_test = testx[testx[:,22]==0]\n",
    "x_jets_1_test = testx[testx[:,22]==1]\n",
    "x_jets_2_test = testx[testx[:,22]==2]\n",
    "x_jets_3_test = testx[testx[:,22]==3]\n",
    "x_jets_test_matrix = np.array([x_jets_0_test,x_jets_1_test,x_jets_2_test,x_jets_3_test])"
   ]
  },
  {
   "cell_type": "code",
   "execution_count": 9,
   "metadata": {
    "collapsed": true
   },
   "outputs": [],
   "source": [
    "indices_x_0_train = np.where([x[:,22]==0])[1]\n",
    "indices_x_1_train = np.where([x[:,22]==1])[1]\n",
    "indices_x_2_train = np.where([x[:,22]==2])[1]\n",
    "indices_x_3_train = np.where([x[:,22]==3])[1]"
   ]
  },
  {
   "cell_type": "code",
   "execution_count": 10,
   "metadata": {
    "collapsed": true
   },
   "outputs": [],
   "source": [
    "indices_x_0_test = np.where([testx[:,22]==0])[1]\n",
    "indices_x_1_test = np.where([testx[:,22]==1])[1]\n",
    "indices_x_2_test = np.where([testx[:,22]==2])[1]\n",
    "indices_x_3_test = np.where([testx[:,22]==3])[1]"
   ]
  },
  {
   "cell_type": "code",
   "execution_count": 11,
   "metadata": {
    "collapsed": true
   },
   "outputs": [],
   "source": [
    "idstest_0 = idstest[indices_x_0_test]\n",
    "idstest_1 = idstest[indices_x_1_test]\n",
    "idstest_2 = idstest[indices_x_2_test]\n",
    "idstest_3 = idstest[indices_x_3_test]"
   ]
  },
  {
   "cell_type": "code",
   "execution_count": 12,
   "metadata": {},
   "outputs": [
    {
     "data": {
      "text/plain": [
       "array([350000, 350002, 350003, ..., 918232, 918235, 918237])"
      ]
     },
     "execution_count": 12,
     "metadata": {},
     "output_type": "execute_result"
    }
   ],
   "source": [
    "idstest_0"
   ]
  },
  {
   "cell_type": "code",
   "execution_count": 13,
   "metadata": {},
   "outputs": [
    {
     "data": {
      "text/plain": [
       "array([350001, 350006, 350010, ..., 918227, 918231, 918236])"
      ]
     },
     "execution_count": 13,
     "metadata": {},
     "output_type": "execute_result"
    }
   ],
   "source": [
    "idstest_1"
   ]
  },
  {
   "cell_type": "code",
   "execution_count": 14,
   "metadata": {},
   "outputs": [
    {
     "data": {
      "text/plain": [
       "array([350007, 350009, 350013, ..., 918229, 918233, 918234])"
      ]
     },
     "execution_count": 14,
     "metadata": {},
     "output_type": "execute_result"
    }
   ],
   "source": [
    "idstest_2"
   ]
  },
  {
   "cell_type": "code",
   "execution_count": 15,
   "metadata": {},
   "outputs": [
    {
     "data": {
      "text/plain": [
       "array([350004, 350022, 350025, ..., 918203, 918223, 918230])"
      ]
     },
     "execution_count": 15,
     "metadata": {},
     "output_type": "execute_result"
    }
   ],
   "source": [
    "idstest_3"
   ]
  },
  {
   "cell_type": "code",
   "execution_count": 16,
   "metadata": {
    "collapsed": true
   },
   "outputs": [],
   "source": [
    "y_jets_0_train = y[indices_x_0_train]\n",
    "y_jets_1_train = y[indices_x_1_train]\n",
    "y_jets_2_train = y[indices_x_2_train]\n",
    "y_jets_3_train = y[indices_x_3_train]\n",
    "y_jets_train_matrix = np.array([y_jets_0_train,y_jets_1_train,y_jets_2_train,y_jets_3_train])"
   ]
  },
  {
   "cell_type": "code",
   "execution_count": 17,
   "metadata": {
    "collapsed": true
   },
   "outputs": [],
   "source": [
    "y_jets_0_test = ytest[indices_x_0_test]\n",
    "y_jets_1_test = ytest[indices_x_1_test]\n",
    "y_jets_2_test = ytest[indices_x_2_test]\n",
    "y_jets_3_test = ytest[indices_x_3_test]\n",
    "y_jets_test_matrix = ([y_jets_0_test,y_jets_1_test,y_jets_2_test,y_jets_3_test])"
   ]
  },
  {
   "cell_type": "code",
   "execution_count": 18,
   "metadata": {
    "collapsed": true
   },
   "outputs": [],
   "source": [
    "corr_jet_0 = np.column_stack((x_jets_0_train,y_jets_0_train))\n",
    "corr_jet_1 = np.column_stack((x_jets_1_train,y_jets_1_train))\n",
    "corr_jet_2 = np.column_stack((x_jets_2_train,y_jets_2_train))\n",
    "corr_jet_3 = np.column_stack((x_jets_3_train,y_jets_3_train))"
   ]
  },
  {
   "cell_type": "code",
   "execution_count": 21,
   "metadata": {},
   "outputs": [
    {
     "data": {
      "text/html": [
       "<div>\n",
       "<style>\n",
       "    .dataframe thead tr:only-child th {\n",
       "        text-align: right;\n",
       "    }\n",
       "\n",
       "    .dataframe thead th {\n",
       "        text-align: left;\n",
       "    }\n",
       "\n",
       "    .dataframe tbody tr th {\n",
       "        vertical-align: top;\n",
       "    }\n",
       "</style>\n",
       "<table border=\"1\" class=\"dataframe\">\n",
       "  <thead>\n",
       "    <tr style=\"text-align: right;\">\n",
       "      <th></th>\n",
       "      <th>0</th>\n",
       "      <th>1</th>\n",
       "      <th>2</th>\n",
       "      <th>3</th>\n",
       "      <th>4</th>\n",
       "      <th>5</th>\n",
       "      <th>6</th>\n",
       "      <th>7</th>\n",
       "      <th>8</th>\n",
       "      <th>9</th>\n",
       "      <th>...</th>\n",
       "      <th>29</th>\n",
       "      <th>30</th>\n",
       "      <th>31</th>\n",
       "      <th>32</th>\n",
       "      <th>33</th>\n",
       "      <th>34</th>\n",
       "      <th>35</th>\n",
       "      <th>36</th>\n",
       "      <th>37</th>\n",
       "      <th>38</th>\n",
       "    </tr>\n",
       "  </thead>\n",
       "  <tbody>\n",
       "    <tr>\n",
       "      <th>0</th>\n",
       "      <td>1.000000</td>\n",
       "      <td>-0.424898</td>\n",
       "      <td>0.133906</td>\n",
       "      <td>0.097793</td>\n",
       "      <td>NaN</td>\n",
       "      <td>NaN</td>\n",
       "      <td>NaN</td>\n",
       "      <td>0.168382</td>\n",
       "      <td>-0.058291</td>\n",
       "      <td>0.097811</td>\n",
       "      <td>...</td>\n",
       "      <td>0.076304</td>\n",
       "      <td>-0.008804</td>\n",
       "      <td>0.003588</td>\n",
       "      <td>-0.008342</td>\n",
       "      <td>0.048850</td>\n",
       "      <td>-0.000699</td>\n",
       "      <td>0.000775</td>\n",
       "      <td>-0.001383</td>\n",
       "      <td>0.014906</td>\n",
       "      <td>0.183960</td>\n",
       "    </tr>\n",
       "    <tr>\n",
       "      <th>1</th>\n",
       "      <td>-0.424898</td>\n",
       "      <td>1.000000</td>\n",
       "      <td>0.220099</td>\n",
       "      <td>-0.173141</td>\n",
       "      <td>NaN</td>\n",
       "      <td>NaN</td>\n",
       "      <td>NaN</td>\n",
       "      <td>0.032913</td>\n",
       "      <td>0.069096</td>\n",
       "      <td>-0.010816</td>\n",
       "      <td>...</td>\n",
       "      <td>-0.152460</td>\n",
       "      <td>0.004223</td>\n",
       "      <td>-0.003389</td>\n",
       "      <td>0.002003</td>\n",
       "      <td>-0.024142</td>\n",
       "      <td>0.011041</td>\n",
       "      <td>-0.007192</td>\n",
       "      <td>0.010751</td>\n",
       "      <td>0.264366</td>\n",
       "      <td>-0.299453</td>\n",
       "    </tr>\n",
       "    <tr>\n",
       "      <th>2</th>\n",
       "      <td>0.133906</td>\n",
       "      <td>0.220099</td>\n",
       "      <td>1.000000</td>\n",
       "      <td>-0.045164</td>\n",
       "      <td>NaN</td>\n",
       "      <td>NaN</td>\n",
       "      <td>NaN</td>\n",
       "      <td>0.600208</td>\n",
       "      <td>0.004279</td>\n",
       "      <td>0.207173</td>\n",
       "      <td>...</td>\n",
       "      <td>-0.047775</td>\n",
       "      <td>-0.010468</td>\n",
       "      <td>-0.007296</td>\n",
       "      <td>-0.005672</td>\n",
       "      <td>0.273466</td>\n",
       "      <td>-0.000108</td>\n",
       "      <td>0.001392</td>\n",
       "      <td>0.002686</td>\n",
       "      <td>0.362571</td>\n",
       "      <td>-0.024319</td>\n",
       "    </tr>\n",
       "    <tr>\n",
       "      <th>3</th>\n",
       "      <td>0.097793</td>\n",
       "      <td>-0.173141</td>\n",
       "      <td>-0.045164</td>\n",
       "      <td>1.000000</td>\n",
       "      <td>NaN</td>\n",
       "      <td>NaN</td>\n",
       "      <td>NaN</td>\n",
       "      <td>-0.464379</td>\n",
       "      <td>0.046868</td>\n",
       "      <td>0.863211</td>\n",
       "      <td>...</td>\n",
       "      <td>0.936759</td>\n",
       "      <td>0.010916</td>\n",
       "      <td>0.014555</td>\n",
       "      <td>-0.008030</td>\n",
       "      <td>0.173871</td>\n",
       "      <td>-0.004303</td>\n",
       "      <td>-0.000513</td>\n",
       "      <td>-0.003338</td>\n",
       "      <td>0.100916</td>\n",
       "      <td>0.155179</td>\n",
       "    </tr>\n",
       "    <tr>\n",
       "      <th>4</th>\n",
       "      <td>NaN</td>\n",
       "      <td>NaN</td>\n",
       "      <td>NaN</td>\n",
       "      <td>NaN</td>\n",
       "      <td>NaN</td>\n",
       "      <td>NaN</td>\n",
       "      <td>NaN</td>\n",
       "      <td>NaN</td>\n",
       "      <td>NaN</td>\n",
       "      <td>NaN</td>\n",
       "      <td>...</td>\n",
       "      <td>NaN</td>\n",
       "      <td>NaN</td>\n",
       "      <td>NaN</td>\n",
       "      <td>NaN</td>\n",
       "      <td>NaN</td>\n",
       "      <td>NaN</td>\n",
       "      <td>NaN</td>\n",
       "      <td>NaN</td>\n",
       "      <td>NaN</td>\n",
       "      <td>NaN</td>\n",
       "    </tr>\n",
       "    <tr>\n",
       "      <th>5</th>\n",
       "      <td>NaN</td>\n",
       "      <td>NaN</td>\n",
       "      <td>NaN</td>\n",
       "      <td>NaN</td>\n",
       "      <td>NaN</td>\n",
       "      <td>NaN</td>\n",
       "      <td>NaN</td>\n",
       "      <td>NaN</td>\n",
       "      <td>NaN</td>\n",
       "      <td>NaN</td>\n",
       "      <td>...</td>\n",
       "      <td>NaN</td>\n",
       "      <td>NaN</td>\n",
       "      <td>NaN</td>\n",
       "      <td>NaN</td>\n",
       "      <td>NaN</td>\n",
       "      <td>NaN</td>\n",
       "      <td>NaN</td>\n",
       "      <td>NaN</td>\n",
       "      <td>NaN</td>\n",
       "      <td>NaN</td>\n",
       "    </tr>\n",
       "    <tr>\n",
       "      <th>6</th>\n",
       "      <td>NaN</td>\n",
       "      <td>NaN</td>\n",
       "      <td>NaN</td>\n",
       "      <td>NaN</td>\n",
       "      <td>NaN</td>\n",
       "      <td>NaN</td>\n",
       "      <td>NaN</td>\n",
       "      <td>NaN</td>\n",
       "      <td>NaN</td>\n",
       "      <td>NaN</td>\n",
       "      <td>...</td>\n",
       "      <td>NaN</td>\n",
       "      <td>NaN</td>\n",
       "      <td>NaN</td>\n",
       "      <td>NaN</td>\n",
       "      <td>NaN</td>\n",
       "      <td>NaN</td>\n",
       "      <td>NaN</td>\n",
       "      <td>NaN</td>\n",
       "      <td>NaN</td>\n",
       "      <td>NaN</td>\n",
       "    </tr>\n",
       "    <tr>\n",
       "      <th>7</th>\n",
       "      <td>0.168382</td>\n",
       "      <td>0.032913</td>\n",
       "      <td>0.600208</td>\n",
       "      <td>-0.464379</td>\n",
       "      <td>NaN</td>\n",
       "      <td>NaN</td>\n",
       "      <td>NaN</td>\n",
       "      <td>1.000000</td>\n",
       "      <td>-0.035872</td>\n",
       "      <td>-0.361046</td>\n",
       "      <td>...</td>\n",
       "      <td>-0.443176</td>\n",
       "      <td>-0.014571</td>\n",
       "      <td>-0.006198</td>\n",
       "      <td>-0.002644</td>\n",
       "      <td>-0.033737</td>\n",
       "      <td>-0.007946</td>\n",
       "      <td>-0.000462</td>\n",
       "      <td>0.003124</td>\n",
       "      <td>0.076816</td>\n",
       "      <td>0.029768</td>\n",
       "    </tr>\n",
       "    <tr>\n",
       "      <th>8</th>\n",
       "      <td>-0.058291</td>\n",
       "      <td>0.069096</td>\n",
       "      <td>0.004279</td>\n",
       "      <td>0.046868</td>\n",
       "      <td>NaN</td>\n",
       "      <td>NaN</td>\n",
       "      <td>NaN</td>\n",
       "      <td>-0.035872</td>\n",
       "      <td>1.000000</td>\n",
       "      <td>0.068277</td>\n",
       "      <td>...</td>\n",
       "      <td>0.064793</td>\n",
       "      <td>-0.001892</td>\n",
       "      <td>-0.002986</td>\n",
       "      <td>0.003854</td>\n",
       "      <td>0.027042</td>\n",
       "      <td>-0.005201</td>\n",
       "      <td>-0.006724</td>\n",
       "      <td>0.000066</td>\n",
       "      <td>0.012417</td>\n",
       "      <td>0.038854</td>\n",
       "    </tr>\n",
       "    <tr>\n",
       "      <th>9</th>\n",
       "      <td>0.097811</td>\n",
       "      <td>-0.010816</td>\n",
       "      <td>0.207173</td>\n",
       "      <td>0.863211</td>\n",
       "      <td>NaN</td>\n",
       "      <td>NaN</td>\n",
       "      <td>NaN</td>\n",
       "      <td>-0.361046</td>\n",
       "      <td>0.068277</td>\n",
       "      <td>1.000000</td>\n",
       "      <td>...</td>\n",
       "      <td>0.905166</td>\n",
       "      <td>0.006015</td>\n",
       "      <td>0.011271</td>\n",
       "      <td>-0.011465</td>\n",
       "      <td>0.316633</td>\n",
       "      <td>0.003352</td>\n",
       "      <td>0.002491</td>\n",
       "      <td>-0.000618</td>\n",
       "      <td>0.240667</td>\n",
       "      <td>0.159892</td>\n",
       "    </tr>\n",
       "    <tr>\n",
       "      <th>10</th>\n",
       "      <td>-0.028208</td>\n",
       "      <td>0.334662</td>\n",
       "      <td>0.115214</td>\n",
       "      <td>0.067262</td>\n",
       "      <td>NaN</td>\n",
       "      <td>NaN</td>\n",
       "      <td>NaN</td>\n",
       "      <td>0.066722</td>\n",
       "      <td>0.003942</td>\n",
       "      <td>0.112280</td>\n",
       "      <td>...</td>\n",
       "      <td>0.061199</td>\n",
       "      <td>0.004949</td>\n",
       "      <td>0.003898</td>\n",
       "      <td>0.000819</td>\n",
       "      <td>-0.302553</td>\n",
       "      <td>0.003283</td>\n",
       "      <td>-0.016113</td>\n",
       "      <td>0.015538</td>\n",
       "      <td>0.425939</td>\n",
       "      <td>-0.194161</td>\n",
       "    </tr>\n",
       "    <tr>\n",
       "      <th>11</th>\n",
       "      <td>0.339531</td>\n",
       "      <td>-0.426295</td>\n",
       "      <td>-0.121731</td>\n",
       "      <td>0.341920</td>\n",
       "      <td>NaN</td>\n",
       "      <td>NaN</td>\n",
       "      <td>NaN</td>\n",
       "      <td>-0.046965</td>\n",
       "      <td>-0.050335</td>\n",
       "      <td>0.177378</td>\n",
       "      <td>...</td>\n",
       "      <td>0.277559</td>\n",
       "      <td>-0.004607</td>\n",
       "      <td>0.007062</td>\n",
       "      <td>-0.000496</td>\n",
       "      <td>-0.008366</td>\n",
       "      <td>-0.002349</td>\n",
       "      <td>-0.001130</td>\n",
       "      <td>-0.007116</td>\n",
       "      <td>-0.101624</td>\n",
       "      <td>0.266011</td>\n",
       "    </tr>\n",
       "    <tr>\n",
       "      <th>12</th>\n",
       "      <td>NaN</td>\n",
       "      <td>NaN</td>\n",
       "      <td>NaN</td>\n",
       "      <td>NaN</td>\n",
       "      <td>NaN</td>\n",
       "      <td>NaN</td>\n",
       "      <td>NaN</td>\n",
       "      <td>NaN</td>\n",
       "      <td>NaN</td>\n",
       "      <td>NaN</td>\n",
       "      <td>...</td>\n",
       "      <td>NaN</td>\n",
       "      <td>NaN</td>\n",
       "      <td>NaN</td>\n",
       "      <td>NaN</td>\n",
       "      <td>NaN</td>\n",
       "      <td>NaN</td>\n",
       "      <td>NaN</td>\n",
       "      <td>NaN</td>\n",
       "      <td>NaN</td>\n",
       "      <td>NaN</td>\n",
       "    </tr>\n",
       "    <tr>\n",
       "      <th>13</th>\n",
       "      <td>0.088165</td>\n",
       "      <td>-0.077656</td>\n",
       "      <td>0.306064</td>\n",
       "      <td>0.358826</td>\n",
       "      <td>NaN</td>\n",
       "      <td>NaN</td>\n",
       "      <td>NaN</td>\n",
       "      <td>-0.151756</td>\n",
       "      <td>0.038219</td>\n",
       "      <td>0.594405</td>\n",
       "      <td>...</td>\n",
       "      <td>0.359690</td>\n",
       "      <td>-0.001846</td>\n",
       "      <td>0.003197</td>\n",
       "      <td>-0.012542</td>\n",
       "      <td>0.575881</td>\n",
       "      <td>0.006680</td>\n",
       "      <td>0.011303</td>\n",
       "      <td>-0.009973</td>\n",
       "      <td>-0.012366</td>\n",
       "      <td>0.215393</td>\n",
       "    </tr>\n",
       "    <tr>\n",
       "      <th>14</th>\n",
       "      <td>-0.010215</td>\n",
       "      <td>0.005930</td>\n",
       "      <td>-0.006716</td>\n",
       "      <td>-0.004123</td>\n",
       "      <td>NaN</td>\n",
       "      <td>NaN</td>\n",
       "      <td>NaN</td>\n",
       "      <td>-0.005581</td>\n",
       "      <td>0.003472</td>\n",
       "      <td>-0.005756</td>\n",
       "      <td>...</td>\n",
       "      <td>-0.003073</td>\n",
       "      <td>-0.001279</td>\n",
       "      <td>-0.006162</td>\n",
       "      <td>0.882347</td>\n",
       "      <td>0.002676</td>\n",
       "      <td>0.002963</td>\n",
       "      <td>0.004430</td>\n",
       "      <td>0.469087</td>\n",
       "      <td>0.006506</td>\n",
       "      <td>-0.003993</td>\n",
       "    </tr>\n",
       "    <tr>\n",
       "      <th>15</th>\n",
       "      <td>-0.005557</td>\n",
       "      <td>0.005140</td>\n",
       "      <td>-0.003382</td>\n",
       "      <td>0.003291</td>\n",
       "      <td>NaN</td>\n",
       "      <td>NaN</td>\n",
       "      <td>NaN</td>\n",
       "      <td>-0.010370</td>\n",
       "      <td>-0.002503</td>\n",
       "      <td>0.002236</td>\n",
       "      <td>...</td>\n",
       "      <td>0.003050</td>\n",
       "      <td>0.682586</td>\n",
       "      <td>-0.006671</td>\n",
       "      <td>0.002242</td>\n",
       "      <td>0.009888</td>\n",
       "      <td>-0.230875</td>\n",
       "      <td>0.002482</td>\n",
       "      <td>-0.006342</td>\n",
       "      <td>0.005624</td>\n",
       "      <td>-0.007634</td>\n",
       "    </tr>\n",
       "    <tr>\n",
       "      <th>16</th>\n",
       "      <td>0.050531</td>\n",
       "      <td>0.366076</td>\n",
       "      <td>0.432710</td>\n",
       "      <td>0.301357</td>\n",
       "      <td>NaN</td>\n",
       "      <td>NaN</td>\n",
       "      <td>NaN</td>\n",
       "      <td>-0.015683</td>\n",
       "      <td>0.033838</td>\n",
       "      <td>0.554185</td>\n",
       "      <td>...</td>\n",
       "      <td>0.294840</td>\n",
       "      <td>-0.001057</td>\n",
       "      <td>-0.001521</td>\n",
       "      <td>-0.007168</td>\n",
       "      <td>0.036497</td>\n",
       "      <td>0.008117</td>\n",
       "      <td>-0.005478</td>\n",
       "      <td>0.010398</td>\n",
       "      <td>0.544861</td>\n",
       "      <td>-0.056978</td>\n",
       "    </tr>\n",
       "    <tr>\n",
       "      <th>17</th>\n",
       "      <td>-0.002150</td>\n",
       "      <td>0.009019</td>\n",
       "      <td>0.000748</td>\n",
       "      <td>-0.007668</td>\n",
       "      <td>NaN</td>\n",
       "      <td>NaN</td>\n",
       "      <td>NaN</td>\n",
       "      <td>0.003171</td>\n",
       "      <td>0.001129</td>\n",
       "      <td>-0.006511</td>\n",
       "      <td>...</td>\n",
       "      <td>-0.005693</td>\n",
       "      <td>-0.003453</td>\n",
       "      <td>-0.004619</td>\n",
       "      <td>0.504013</td>\n",
       "      <td>-0.001416</td>\n",
       "      <td>-0.001019</td>\n",
       "      <td>0.005841</td>\n",
       "      <td>0.901333</td>\n",
       "      <td>0.019171</td>\n",
       "      <td>-0.011503</td>\n",
       "    </tr>\n",
       "    <tr>\n",
       "      <th>18</th>\n",
       "      <td>0.001944</td>\n",
       "      <td>-0.001400</td>\n",
       "      <td>-0.003556</td>\n",
       "      <td>-0.002589</td>\n",
       "      <td>NaN</td>\n",
       "      <td>NaN</td>\n",
       "      <td>NaN</td>\n",
       "      <td>-0.003835</td>\n",
       "      <td>-0.000257</td>\n",
       "      <td>-0.001566</td>\n",
       "      <td>...</td>\n",
       "      <td>-0.002512</td>\n",
       "      <td>-0.212649</td>\n",
       "      <td>0.002345</td>\n",
       "      <td>-0.000038</td>\n",
       "      <td>-0.004846</td>\n",
       "      <td>0.706597</td>\n",
       "      <td>-0.003347</td>\n",
       "      <td>-0.003104</td>\n",
       "      <td>-0.010440</td>\n",
       "      <td>0.003909</td>\n",
       "    </tr>\n",
       "    <tr>\n",
       "      <th>19</th>\n",
       "      <td>-0.336614</td>\n",
       "      <td>0.265524</td>\n",
       "      <td>-0.050755</td>\n",
       "      <td>0.613056</td>\n",
       "      <td>NaN</td>\n",
       "      <td>NaN</td>\n",
       "      <td>NaN</td>\n",
       "      <td>-0.232355</td>\n",
       "      <td>0.127498</td>\n",
       "      <td>0.488829</td>\n",
       "      <td>...</td>\n",
       "      <td>0.599633</td>\n",
       "      <td>0.000929</td>\n",
       "      <td>0.001322</td>\n",
       "      <td>0.001282</td>\n",
       "      <td>0.055186</td>\n",
       "      <td>-0.002688</td>\n",
       "      <td>-0.003659</td>\n",
       "      <td>-0.004929</td>\n",
       "      <td>0.020730</td>\n",
       "      <td>0.016923</td>\n",
       "    </tr>\n",
       "    <tr>\n",
       "      <th>20</th>\n",
       "      <td>0.006634</td>\n",
       "      <td>-0.015877</td>\n",
       "      <td>0.000028</td>\n",
       "      <td>0.004895</td>\n",
       "      <td>NaN</td>\n",
       "      <td>NaN</td>\n",
       "      <td>NaN</td>\n",
       "      <td>-0.000558</td>\n",
       "      <td>-0.002279</td>\n",
       "      <td>0.002801</td>\n",
       "      <td>...</td>\n",
       "      <td>0.004582</td>\n",
       "      <td>0.018757</td>\n",
       "      <td>0.005421</td>\n",
       "      <td>-0.001327</td>\n",
       "      <td>-0.005317</td>\n",
       "      <td>0.050149</td>\n",
       "      <td>-0.000819</td>\n",
       "      <td>-0.002920</td>\n",
       "      <td>-0.004106</td>\n",
       "      <td>0.009393</td>\n",
       "    </tr>\n",
       "    <tr>\n",
       "      <th>21</th>\n",
       "      <td>0.114076</td>\n",
       "      <td>-0.051715</td>\n",
       "      <td>0.119256</td>\n",
       "      <td>0.712582</td>\n",
       "      <td>NaN</td>\n",
       "      <td>NaN</td>\n",
       "      <td>NaN</td>\n",
       "      <td>-0.301322</td>\n",
       "      <td>0.269379</td>\n",
       "      <td>0.757990</td>\n",
       "      <td>...</td>\n",
       "      <td>0.706877</td>\n",
       "      <td>0.008061</td>\n",
       "      <td>0.005654</td>\n",
       "      <td>-0.005841</td>\n",
       "      <td>0.249298</td>\n",
       "      <td>-0.004514</td>\n",
       "      <td>-0.003049</td>\n",
       "      <td>-0.000048</td>\n",
       "      <td>0.116937</td>\n",
       "      <td>0.132898</td>\n",
       "    </tr>\n",
       "    <tr>\n",
       "      <th>22</th>\n",
       "      <td>NaN</td>\n",
       "      <td>NaN</td>\n",
       "      <td>NaN</td>\n",
       "      <td>NaN</td>\n",
       "      <td>NaN</td>\n",
       "      <td>NaN</td>\n",
       "      <td>NaN</td>\n",
       "      <td>NaN</td>\n",
       "      <td>NaN</td>\n",
       "      <td>NaN</td>\n",
       "      <td>...</td>\n",
       "      <td>NaN</td>\n",
       "      <td>NaN</td>\n",
       "      <td>NaN</td>\n",
       "      <td>NaN</td>\n",
       "      <td>NaN</td>\n",
       "      <td>NaN</td>\n",
       "      <td>NaN</td>\n",
       "      <td>NaN</td>\n",
       "      <td>NaN</td>\n",
       "      <td>NaN</td>\n",
       "    </tr>\n",
       "    <tr>\n",
       "      <th>23</th>\n",
       "      <td>0.076304</td>\n",
       "      <td>-0.152460</td>\n",
       "      <td>-0.047775</td>\n",
       "      <td>0.936759</td>\n",
       "      <td>NaN</td>\n",
       "      <td>NaN</td>\n",
       "      <td>NaN</td>\n",
       "      <td>-0.443176</td>\n",
       "      <td>0.064793</td>\n",
       "      <td>0.905166</td>\n",
       "      <td>...</td>\n",
       "      <td>1.000000</td>\n",
       "      <td>0.010041</td>\n",
       "      <td>0.015501</td>\n",
       "      <td>-0.007329</td>\n",
       "      <td>0.171928</td>\n",
       "      <td>-0.002104</td>\n",
       "      <td>0.000926</td>\n",
       "      <td>-0.001166</td>\n",
       "      <td>0.095715</td>\n",
       "      <td>0.157531</td>\n",
       "    </tr>\n",
       "    <tr>\n",
       "      <th>24</th>\n",
       "      <td>0.000268</td>\n",
       "      <td>-0.000746</td>\n",
       "      <td>0.000408</td>\n",
       "      <td>0.002881</td>\n",
       "      <td>NaN</td>\n",
       "      <td>NaN</td>\n",
       "      <td>NaN</td>\n",
       "      <td>-0.000690</td>\n",
       "      <td>0.001060</td>\n",
       "      <td>0.001059</td>\n",
       "      <td>...</td>\n",
       "      <td>0.001229</td>\n",
       "      <td>-0.003677</td>\n",
       "      <td>-0.000309</td>\n",
       "      <td>0.209653</td>\n",
       "      <td>0.001384</td>\n",
       "      <td>0.002305</td>\n",
       "      <td>-0.002707</td>\n",
       "      <td>0.229828</td>\n",
       "      <td>0.008111</td>\n",
       "      <td>-0.002472</td>\n",
       "    </tr>\n",
       "    <tr>\n",
       "      <th>25</th>\n",
       "      <td>-0.001374</td>\n",
       "      <td>0.007110</td>\n",
       "      <td>0.008847</td>\n",
       "      <td>-0.002982</td>\n",
       "      <td>NaN</td>\n",
       "      <td>NaN</td>\n",
       "      <td>NaN</td>\n",
       "      <td>0.011137</td>\n",
       "      <td>0.002363</td>\n",
       "      <td>-0.000555</td>\n",
       "      <td>...</td>\n",
       "      <td>-0.003723</td>\n",
       "      <td>-0.242740</td>\n",
       "      <td>0.000275</td>\n",
       "      <td>-0.001749</td>\n",
       "      <td>0.008523</td>\n",
       "      <td>-0.386430</td>\n",
       "      <td>0.000124</td>\n",
       "      <td>0.004074</td>\n",
       "      <td>0.008928</td>\n",
       "      <td>-0.002562</td>\n",
       "    </tr>\n",
       "    <tr>\n",
       "      <th>26</th>\n",
       "      <td>NaN</td>\n",
       "      <td>NaN</td>\n",
       "      <td>NaN</td>\n",
       "      <td>NaN</td>\n",
       "      <td>NaN</td>\n",
       "      <td>NaN</td>\n",
       "      <td>NaN</td>\n",
       "      <td>NaN</td>\n",
       "      <td>NaN</td>\n",
       "      <td>NaN</td>\n",
       "      <td>...</td>\n",
       "      <td>NaN</td>\n",
       "      <td>NaN</td>\n",
       "      <td>NaN</td>\n",
       "      <td>NaN</td>\n",
       "      <td>NaN</td>\n",
       "      <td>NaN</td>\n",
       "      <td>NaN</td>\n",
       "      <td>NaN</td>\n",
       "      <td>NaN</td>\n",
       "      <td>NaN</td>\n",
       "    </tr>\n",
       "    <tr>\n",
       "      <th>27</th>\n",
       "      <td>NaN</td>\n",
       "      <td>NaN</td>\n",
       "      <td>NaN</td>\n",
       "      <td>NaN</td>\n",
       "      <td>NaN</td>\n",
       "      <td>NaN</td>\n",
       "      <td>NaN</td>\n",
       "      <td>NaN</td>\n",
       "      <td>NaN</td>\n",
       "      <td>NaN</td>\n",
       "      <td>...</td>\n",
       "      <td>NaN</td>\n",
       "      <td>NaN</td>\n",
       "      <td>NaN</td>\n",
       "      <td>NaN</td>\n",
       "      <td>NaN</td>\n",
       "      <td>NaN</td>\n",
       "      <td>NaN</td>\n",
       "      <td>NaN</td>\n",
       "      <td>NaN</td>\n",
       "      <td>NaN</td>\n",
       "    </tr>\n",
       "    <tr>\n",
       "      <th>28</th>\n",
       "      <td>NaN</td>\n",
       "      <td>NaN</td>\n",
       "      <td>NaN</td>\n",
       "      <td>NaN</td>\n",
       "      <td>NaN</td>\n",
       "      <td>NaN</td>\n",
       "      <td>NaN</td>\n",
       "      <td>NaN</td>\n",
       "      <td>NaN</td>\n",
       "      <td>NaN</td>\n",
       "      <td>...</td>\n",
       "      <td>NaN</td>\n",
       "      <td>NaN</td>\n",
       "      <td>NaN</td>\n",
       "      <td>NaN</td>\n",
       "      <td>NaN</td>\n",
       "      <td>NaN</td>\n",
       "      <td>NaN</td>\n",
       "      <td>NaN</td>\n",
       "      <td>NaN</td>\n",
       "      <td>NaN</td>\n",
       "    </tr>\n",
       "    <tr>\n",
       "      <th>29</th>\n",
       "      <td>0.076304</td>\n",
       "      <td>-0.152460</td>\n",
       "      <td>-0.047775</td>\n",
       "      <td>0.936759</td>\n",
       "      <td>NaN</td>\n",
       "      <td>NaN</td>\n",
       "      <td>NaN</td>\n",
       "      <td>-0.443176</td>\n",
       "      <td>0.064793</td>\n",
       "      <td>0.905166</td>\n",
       "      <td>...</td>\n",
       "      <td>1.000000</td>\n",
       "      <td>0.010041</td>\n",
       "      <td>0.015501</td>\n",
       "      <td>-0.007329</td>\n",
       "      <td>0.171928</td>\n",
       "      <td>-0.002104</td>\n",
       "      <td>0.000926</td>\n",
       "      <td>-0.001166</td>\n",
       "      <td>0.095715</td>\n",
       "      <td>0.157531</td>\n",
       "    </tr>\n",
       "    <tr>\n",
       "      <th>30</th>\n",
       "      <td>-0.008804</td>\n",
       "      <td>0.004223</td>\n",
       "      <td>-0.010468</td>\n",
       "      <td>0.010916</td>\n",
       "      <td>NaN</td>\n",
       "      <td>NaN</td>\n",
       "      <td>NaN</td>\n",
       "      <td>-0.014571</td>\n",
       "      <td>-0.001892</td>\n",
       "      <td>0.006015</td>\n",
       "      <td>...</td>\n",
       "      <td>0.010041</td>\n",
       "      <td>1.000000</td>\n",
       "      <td>-0.014484</td>\n",
       "      <td>0.004750</td>\n",
       "      <td>0.006014</td>\n",
       "      <td>-0.249964</td>\n",
       "      <td>0.004812</td>\n",
       "      <td>-0.006227</td>\n",
       "      <td>0.004800</td>\n",
       "      <td>-0.010309</td>\n",
       "    </tr>\n",
       "    <tr>\n",
       "      <th>31</th>\n",
       "      <td>0.003588</td>\n",
       "      <td>-0.003389</td>\n",
       "      <td>-0.007296</td>\n",
       "      <td>0.014555</td>\n",
       "      <td>NaN</td>\n",
       "      <td>NaN</td>\n",
       "      <td>NaN</td>\n",
       "      <td>-0.006198</td>\n",
       "      <td>-0.002986</td>\n",
       "      <td>0.011271</td>\n",
       "      <td>...</td>\n",
       "      <td>0.015501</td>\n",
       "      <td>-0.014484</td>\n",
       "      <td>1.000000</td>\n",
       "      <td>-0.004803</td>\n",
       "      <td>-0.000957</td>\n",
       "      <td>0.001327</td>\n",
       "      <td>-0.255511</td>\n",
       "      <td>-0.003973</td>\n",
       "      <td>0.001017</td>\n",
       "      <td>0.004107</td>\n",
       "    </tr>\n",
       "    <tr>\n",
       "      <th>32</th>\n",
       "      <td>-0.008342</td>\n",
       "      <td>0.002003</td>\n",
       "      <td>-0.005672</td>\n",
       "      <td>-0.008030</td>\n",
       "      <td>NaN</td>\n",
       "      <td>NaN</td>\n",
       "      <td>NaN</td>\n",
       "      <td>-0.002644</td>\n",
       "      <td>0.003854</td>\n",
       "      <td>-0.011465</td>\n",
       "      <td>...</td>\n",
       "      <td>-0.007329</td>\n",
       "      <td>0.004750</td>\n",
       "      <td>-0.004803</td>\n",
       "      <td>1.000000</td>\n",
       "      <td>0.000230</td>\n",
       "      <td>0.000762</td>\n",
       "      <td>0.003750</td>\n",
       "      <td>0.440330</td>\n",
       "      <td>0.004131</td>\n",
       "      <td>-0.003169</td>\n",
       "    </tr>\n",
       "    <tr>\n",
       "      <th>33</th>\n",
       "      <td>0.048850</td>\n",
       "      <td>-0.024142</td>\n",
       "      <td>0.273466</td>\n",
       "      <td>0.173871</td>\n",
       "      <td>NaN</td>\n",
       "      <td>NaN</td>\n",
       "      <td>NaN</td>\n",
       "      <td>-0.033737</td>\n",
       "      <td>0.027042</td>\n",
       "      <td>0.316633</td>\n",
       "      <td>...</td>\n",
       "      <td>0.171928</td>\n",
       "      <td>0.006014</td>\n",
       "      <td>-0.000957</td>\n",
       "      <td>0.000230</td>\n",
       "      <td>1.000000</td>\n",
       "      <td>-0.008926</td>\n",
       "      <td>0.008290</td>\n",
       "      <td>-0.005762</td>\n",
       "      <td>0.145398</td>\n",
       "      <td>0.059932</td>\n",
       "    </tr>\n",
       "    <tr>\n",
       "      <th>34</th>\n",
       "      <td>-0.000699</td>\n",
       "      <td>0.011041</td>\n",
       "      <td>-0.000108</td>\n",
       "      <td>-0.004303</td>\n",
       "      <td>NaN</td>\n",
       "      <td>NaN</td>\n",
       "      <td>NaN</td>\n",
       "      <td>-0.007946</td>\n",
       "      <td>-0.005201</td>\n",
       "      <td>0.003352</td>\n",
       "      <td>...</td>\n",
       "      <td>-0.002104</td>\n",
       "      <td>-0.249964</td>\n",
       "      <td>0.001327</td>\n",
       "      <td>0.000762</td>\n",
       "      <td>-0.008926</td>\n",
       "      <td>1.000000</td>\n",
       "      <td>-0.004163</td>\n",
       "      <td>-0.000787</td>\n",
       "      <td>-0.017487</td>\n",
       "      <td>0.005117</td>\n",
       "    </tr>\n",
       "    <tr>\n",
       "      <th>35</th>\n",
       "      <td>0.000775</td>\n",
       "      <td>-0.007192</td>\n",
       "      <td>0.001392</td>\n",
       "      <td>-0.000513</td>\n",
       "      <td>NaN</td>\n",
       "      <td>NaN</td>\n",
       "      <td>NaN</td>\n",
       "      <td>-0.000462</td>\n",
       "      <td>-0.006724</td>\n",
       "      <td>0.002491</td>\n",
       "      <td>...</td>\n",
       "      <td>0.000926</td>\n",
       "      <td>0.004812</td>\n",
       "      <td>-0.255511</td>\n",
       "      <td>0.003750</td>\n",
       "      <td>0.008290</td>\n",
       "      <td>-0.004163</td>\n",
       "      <td>1.000000</td>\n",
       "      <td>0.007081</td>\n",
       "      <td>-0.006835</td>\n",
       "      <td>0.000352</td>\n",
       "    </tr>\n",
       "    <tr>\n",
       "      <th>36</th>\n",
       "      <td>-0.001383</td>\n",
       "      <td>0.010751</td>\n",
       "      <td>0.002686</td>\n",
       "      <td>-0.003338</td>\n",
       "      <td>NaN</td>\n",
       "      <td>NaN</td>\n",
       "      <td>NaN</td>\n",
       "      <td>0.003124</td>\n",
       "      <td>0.000066</td>\n",
       "      <td>-0.000618</td>\n",
       "      <td>...</td>\n",
       "      <td>-0.001166</td>\n",
       "      <td>-0.006227</td>\n",
       "      <td>-0.003973</td>\n",
       "      <td>0.440330</td>\n",
       "      <td>-0.005762</td>\n",
       "      <td>-0.000787</td>\n",
       "      <td>0.007081</td>\n",
       "      <td>1.000000</td>\n",
       "      <td>0.038960</td>\n",
       "      <td>-0.013746</td>\n",
       "    </tr>\n",
       "    <tr>\n",
       "      <th>37</th>\n",
       "      <td>0.014906</td>\n",
       "      <td>0.264366</td>\n",
       "      <td>0.362571</td>\n",
       "      <td>0.100916</td>\n",
       "      <td>NaN</td>\n",
       "      <td>NaN</td>\n",
       "      <td>NaN</td>\n",
       "      <td>0.076816</td>\n",
       "      <td>0.012417</td>\n",
       "      <td>0.240667</td>\n",
       "      <td>...</td>\n",
       "      <td>0.095715</td>\n",
       "      <td>0.004800</td>\n",
       "      <td>0.001017</td>\n",
       "      <td>0.004131</td>\n",
       "      <td>0.145398</td>\n",
       "      <td>-0.017487</td>\n",
       "      <td>-0.006835</td>\n",
       "      <td>0.038960</td>\n",
       "      <td>1.000000</td>\n",
       "      <td>-0.139298</td>\n",
       "    </tr>\n",
       "    <tr>\n",
       "      <th>38</th>\n",
       "      <td>0.183960</td>\n",
       "      <td>-0.299453</td>\n",
       "      <td>-0.024319</td>\n",
       "      <td>0.155179</td>\n",
       "      <td>NaN</td>\n",
       "      <td>NaN</td>\n",
       "      <td>NaN</td>\n",
       "      <td>0.029768</td>\n",
       "      <td>0.038854</td>\n",
       "      <td>0.159892</td>\n",
       "      <td>...</td>\n",
       "      <td>0.157531</td>\n",
       "      <td>-0.010309</td>\n",
       "      <td>0.004107</td>\n",
       "      <td>-0.003169</td>\n",
       "      <td>0.059932</td>\n",
       "      <td>0.005117</td>\n",
       "      <td>0.000352</td>\n",
       "      <td>-0.013746</td>\n",
       "      <td>-0.139298</td>\n",
       "      <td>1.000000</td>\n",
       "    </tr>\n",
       "  </tbody>\n",
       "</table>\n",
       "<p>39 rows × 39 columns</p>\n",
       "</div>"
      ],
      "text/plain": [
       "          0         1         2         3   4   5   6         7         8   \\\n",
       "0   1.000000 -0.424898  0.133906  0.097793 NaN NaN NaN  0.168382 -0.058291   \n",
       "1  -0.424898  1.000000  0.220099 -0.173141 NaN NaN NaN  0.032913  0.069096   \n",
       "2   0.133906  0.220099  1.000000 -0.045164 NaN NaN NaN  0.600208  0.004279   \n",
       "3   0.097793 -0.173141 -0.045164  1.000000 NaN NaN NaN -0.464379  0.046868   \n",
       "4        NaN       NaN       NaN       NaN NaN NaN NaN       NaN       NaN   \n",
       "5        NaN       NaN       NaN       NaN NaN NaN NaN       NaN       NaN   \n",
       "6        NaN       NaN       NaN       NaN NaN NaN NaN       NaN       NaN   \n",
       "7   0.168382  0.032913  0.600208 -0.464379 NaN NaN NaN  1.000000 -0.035872   \n",
       "8  -0.058291  0.069096  0.004279  0.046868 NaN NaN NaN -0.035872  1.000000   \n",
       "9   0.097811 -0.010816  0.207173  0.863211 NaN NaN NaN -0.361046  0.068277   \n",
       "10 -0.028208  0.334662  0.115214  0.067262 NaN NaN NaN  0.066722  0.003942   \n",
       "11  0.339531 -0.426295 -0.121731  0.341920 NaN NaN NaN -0.046965 -0.050335   \n",
       "12       NaN       NaN       NaN       NaN NaN NaN NaN       NaN       NaN   \n",
       "13  0.088165 -0.077656  0.306064  0.358826 NaN NaN NaN -0.151756  0.038219   \n",
       "14 -0.010215  0.005930 -0.006716 -0.004123 NaN NaN NaN -0.005581  0.003472   \n",
       "15 -0.005557  0.005140 -0.003382  0.003291 NaN NaN NaN -0.010370 -0.002503   \n",
       "16  0.050531  0.366076  0.432710  0.301357 NaN NaN NaN -0.015683  0.033838   \n",
       "17 -0.002150  0.009019  0.000748 -0.007668 NaN NaN NaN  0.003171  0.001129   \n",
       "18  0.001944 -0.001400 -0.003556 -0.002589 NaN NaN NaN -0.003835 -0.000257   \n",
       "19 -0.336614  0.265524 -0.050755  0.613056 NaN NaN NaN -0.232355  0.127498   \n",
       "20  0.006634 -0.015877  0.000028  0.004895 NaN NaN NaN -0.000558 -0.002279   \n",
       "21  0.114076 -0.051715  0.119256  0.712582 NaN NaN NaN -0.301322  0.269379   \n",
       "22       NaN       NaN       NaN       NaN NaN NaN NaN       NaN       NaN   \n",
       "23  0.076304 -0.152460 -0.047775  0.936759 NaN NaN NaN -0.443176  0.064793   \n",
       "24  0.000268 -0.000746  0.000408  0.002881 NaN NaN NaN -0.000690  0.001060   \n",
       "25 -0.001374  0.007110  0.008847 -0.002982 NaN NaN NaN  0.011137  0.002363   \n",
       "26       NaN       NaN       NaN       NaN NaN NaN NaN       NaN       NaN   \n",
       "27       NaN       NaN       NaN       NaN NaN NaN NaN       NaN       NaN   \n",
       "28       NaN       NaN       NaN       NaN NaN NaN NaN       NaN       NaN   \n",
       "29  0.076304 -0.152460 -0.047775  0.936759 NaN NaN NaN -0.443176  0.064793   \n",
       "30 -0.008804  0.004223 -0.010468  0.010916 NaN NaN NaN -0.014571 -0.001892   \n",
       "31  0.003588 -0.003389 -0.007296  0.014555 NaN NaN NaN -0.006198 -0.002986   \n",
       "32 -0.008342  0.002003 -0.005672 -0.008030 NaN NaN NaN -0.002644  0.003854   \n",
       "33  0.048850 -0.024142  0.273466  0.173871 NaN NaN NaN -0.033737  0.027042   \n",
       "34 -0.000699  0.011041 -0.000108 -0.004303 NaN NaN NaN -0.007946 -0.005201   \n",
       "35  0.000775 -0.007192  0.001392 -0.000513 NaN NaN NaN -0.000462 -0.006724   \n",
       "36 -0.001383  0.010751  0.002686 -0.003338 NaN NaN NaN  0.003124  0.000066   \n",
       "37  0.014906  0.264366  0.362571  0.100916 NaN NaN NaN  0.076816  0.012417   \n",
       "38  0.183960 -0.299453 -0.024319  0.155179 NaN NaN NaN  0.029768  0.038854   \n",
       "\n",
       "          9     ...           29        30        31        32        33  \\\n",
       "0   0.097811    ...     0.076304 -0.008804  0.003588 -0.008342  0.048850   \n",
       "1  -0.010816    ...    -0.152460  0.004223 -0.003389  0.002003 -0.024142   \n",
       "2   0.207173    ...    -0.047775 -0.010468 -0.007296 -0.005672  0.273466   \n",
       "3   0.863211    ...     0.936759  0.010916  0.014555 -0.008030  0.173871   \n",
       "4        NaN    ...          NaN       NaN       NaN       NaN       NaN   \n",
       "5        NaN    ...          NaN       NaN       NaN       NaN       NaN   \n",
       "6        NaN    ...          NaN       NaN       NaN       NaN       NaN   \n",
       "7  -0.361046    ...    -0.443176 -0.014571 -0.006198 -0.002644 -0.033737   \n",
       "8   0.068277    ...     0.064793 -0.001892 -0.002986  0.003854  0.027042   \n",
       "9   1.000000    ...     0.905166  0.006015  0.011271 -0.011465  0.316633   \n",
       "10  0.112280    ...     0.061199  0.004949  0.003898  0.000819 -0.302553   \n",
       "11  0.177378    ...     0.277559 -0.004607  0.007062 -0.000496 -0.008366   \n",
       "12       NaN    ...          NaN       NaN       NaN       NaN       NaN   \n",
       "13  0.594405    ...     0.359690 -0.001846  0.003197 -0.012542  0.575881   \n",
       "14 -0.005756    ...    -0.003073 -0.001279 -0.006162  0.882347  0.002676   \n",
       "15  0.002236    ...     0.003050  0.682586 -0.006671  0.002242  0.009888   \n",
       "16  0.554185    ...     0.294840 -0.001057 -0.001521 -0.007168  0.036497   \n",
       "17 -0.006511    ...    -0.005693 -0.003453 -0.004619  0.504013 -0.001416   \n",
       "18 -0.001566    ...    -0.002512 -0.212649  0.002345 -0.000038 -0.004846   \n",
       "19  0.488829    ...     0.599633  0.000929  0.001322  0.001282  0.055186   \n",
       "20  0.002801    ...     0.004582  0.018757  0.005421 -0.001327 -0.005317   \n",
       "21  0.757990    ...     0.706877  0.008061  0.005654 -0.005841  0.249298   \n",
       "22       NaN    ...          NaN       NaN       NaN       NaN       NaN   \n",
       "23  0.905166    ...     1.000000  0.010041  0.015501 -0.007329  0.171928   \n",
       "24  0.001059    ...     0.001229 -0.003677 -0.000309  0.209653  0.001384   \n",
       "25 -0.000555    ...    -0.003723 -0.242740  0.000275 -0.001749  0.008523   \n",
       "26       NaN    ...          NaN       NaN       NaN       NaN       NaN   \n",
       "27       NaN    ...          NaN       NaN       NaN       NaN       NaN   \n",
       "28       NaN    ...          NaN       NaN       NaN       NaN       NaN   \n",
       "29  0.905166    ...     1.000000  0.010041  0.015501 -0.007329  0.171928   \n",
       "30  0.006015    ...     0.010041  1.000000 -0.014484  0.004750  0.006014   \n",
       "31  0.011271    ...     0.015501 -0.014484  1.000000 -0.004803 -0.000957   \n",
       "32 -0.011465    ...    -0.007329  0.004750 -0.004803  1.000000  0.000230   \n",
       "33  0.316633    ...     0.171928  0.006014 -0.000957  0.000230  1.000000   \n",
       "34  0.003352    ...    -0.002104 -0.249964  0.001327  0.000762 -0.008926   \n",
       "35  0.002491    ...     0.000926  0.004812 -0.255511  0.003750  0.008290   \n",
       "36 -0.000618    ...    -0.001166 -0.006227 -0.003973  0.440330 -0.005762   \n",
       "37  0.240667    ...     0.095715  0.004800  0.001017  0.004131  0.145398   \n",
       "38  0.159892    ...     0.157531 -0.010309  0.004107 -0.003169  0.059932   \n",
       "\n",
       "          34        35        36        37        38  \n",
       "0  -0.000699  0.000775 -0.001383  0.014906  0.183960  \n",
       "1   0.011041 -0.007192  0.010751  0.264366 -0.299453  \n",
       "2  -0.000108  0.001392  0.002686  0.362571 -0.024319  \n",
       "3  -0.004303 -0.000513 -0.003338  0.100916  0.155179  \n",
       "4        NaN       NaN       NaN       NaN       NaN  \n",
       "5        NaN       NaN       NaN       NaN       NaN  \n",
       "6        NaN       NaN       NaN       NaN       NaN  \n",
       "7  -0.007946 -0.000462  0.003124  0.076816  0.029768  \n",
       "8  -0.005201 -0.006724  0.000066  0.012417  0.038854  \n",
       "9   0.003352  0.002491 -0.000618  0.240667  0.159892  \n",
       "10  0.003283 -0.016113  0.015538  0.425939 -0.194161  \n",
       "11 -0.002349 -0.001130 -0.007116 -0.101624  0.266011  \n",
       "12       NaN       NaN       NaN       NaN       NaN  \n",
       "13  0.006680  0.011303 -0.009973 -0.012366  0.215393  \n",
       "14  0.002963  0.004430  0.469087  0.006506 -0.003993  \n",
       "15 -0.230875  0.002482 -0.006342  0.005624 -0.007634  \n",
       "16  0.008117 -0.005478  0.010398  0.544861 -0.056978  \n",
       "17 -0.001019  0.005841  0.901333  0.019171 -0.011503  \n",
       "18  0.706597 -0.003347 -0.003104 -0.010440  0.003909  \n",
       "19 -0.002688 -0.003659 -0.004929  0.020730  0.016923  \n",
       "20  0.050149 -0.000819 -0.002920 -0.004106  0.009393  \n",
       "21 -0.004514 -0.003049 -0.000048  0.116937  0.132898  \n",
       "22       NaN       NaN       NaN       NaN       NaN  \n",
       "23 -0.002104  0.000926 -0.001166  0.095715  0.157531  \n",
       "24  0.002305 -0.002707  0.229828  0.008111 -0.002472  \n",
       "25 -0.386430  0.000124  0.004074  0.008928 -0.002562  \n",
       "26       NaN       NaN       NaN       NaN       NaN  \n",
       "27       NaN       NaN       NaN       NaN       NaN  \n",
       "28       NaN       NaN       NaN       NaN       NaN  \n",
       "29 -0.002104  0.000926 -0.001166  0.095715  0.157531  \n",
       "30 -0.249964  0.004812 -0.006227  0.004800 -0.010309  \n",
       "31  0.001327 -0.255511 -0.003973  0.001017  0.004107  \n",
       "32  0.000762  0.003750  0.440330  0.004131 -0.003169  \n",
       "33 -0.008926  0.008290 -0.005762  0.145398  0.059932  \n",
       "34  1.000000 -0.004163 -0.000787 -0.017487  0.005117  \n",
       "35 -0.004163  1.000000  0.007081 -0.006835  0.000352  \n",
       "36 -0.000787  0.007081  1.000000  0.038960 -0.013746  \n",
       "37 -0.017487 -0.006835  0.038960  1.000000 -0.139298  \n",
       "38  0.005117  0.000352 -0.013746 -0.139298  1.000000  \n",
       "\n",
       "[39 rows x 39 columns]"
      ]
     },
     "execution_count": 21,
     "metadata": {},
     "output_type": "execute_result"
    }
   ],
   "source": [
    "df = pd.DataFrame(corr_jet_1)\n",
    "df.corr()"
   ]
  },
  {
   "cell_type": "code",
   "execution_count": null,
   "metadata": {
    "collapsed": true
   },
   "outputs": [],
   "source": []
  },
  {
   "cell_type": "code",
   "execution_count": null,
   "metadata": {
    "collapsed": true
   },
   "outputs": [],
   "source": []
  },
  {
   "cell_type": "code",
   "execution_count": 23,
   "metadata": {},
   "outputs": [
    {
     "name": "stdout",
     "output_type": "stream",
     "text": [
      "Counter({0.0: 99913, 1.0: 77544, 2.0: 50379, 3.0: 22164})\n",
      "Counter({0.0: 227458, 1.0: 175338, 2.0: 114648, 3.0: 50794})\n",
      "Counter({-1.0: 74421, 1.0: 25492})\n",
      "Counter({-1.0: 49834, 1.0: 27710})\n",
      "Counter({1.0: 25734, -1.0: 24645})\n",
      "Counter({-1.0: 15433, 1.0: 6731})\n"
     ]
    }
   ],
   "source": [
    "import collections\n",
    "counter=collections.Counter(x[:,22])\n",
    "print(counter)\n",
    "counter = collections.Counter(testx[:,22])\n",
    "print(counter)\n",
    "for jets in y_jets_train_matrix:\n",
    "    counter = collections.Counter(jets)\n",
    "    print(counter)"
   ]
  },
  {
   "cell_type": "markdown",
   "metadata": {},
   "source": [
    "In jet = 0 train , there are 26123 Mass missing values from 99913. ~25%"
   ]
  },
  {
   "cell_type": "markdown",
   "metadata": {},
   "source": [
    "In jet = 1 train , there are 7562 Mass missing values from 77544. ~10%"
   ]
  },
  {
   "cell_type": "markdown",
   "metadata": {},
   "source": [
    "In jet = 2 train , there are 2952 Mass missing values from 50379. ~5.85%"
   ]
  },
  {
   "cell_type": "markdown",
   "metadata": {},
   "source": [
    "In jet = 3 train , there are 1477 Mass missing values from 22164. ~6.66%"
   ]
  },
  {
   "cell_type": "markdown",
   "metadata": {},
   "source": [
    "## Tests to make sure everything is alright."
   ]
  },
  {
   "cell_type": "code",
   "execution_count": 24,
   "metadata": {},
   "outputs": [
    {
     "data": {
      "text/plain": [
       "True"
      ]
     },
     "execution_count": 24,
     "metadata": {},
     "output_type": "execute_result"
    }
   ],
   "source": [
    "x.shape[0] == (x_jets_0_train.shape[0] + x_jets_1_train.shape[0] + x_jets_2_train.shape[0] + x_jets_3_train.shape[0])"
   ]
  },
  {
   "cell_type": "code",
   "execution_count": 25,
   "metadata": {},
   "outputs": [
    {
     "data": {
      "text/plain": [
       "True"
      ]
     },
     "execution_count": 25,
     "metadata": {},
     "output_type": "execute_result"
    }
   ],
   "source": [
    "testx.shape[0] == (x_jets_0_test.shape[0] + x_jets_1_test.shape[0] + x_jets_2_test.shape[0] + x_jets_3_test.shape[0])"
   ]
  },
  {
   "cell_type": "code",
   "execution_count": 26,
   "metadata": {},
   "outputs": [
    {
     "data": {
      "text/plain": [
       "True"
      ]
     },
     "execution_count": 26,
     "metadata": {},
     "output_type": "execute_result"
    }
   ],
   "source": [
    "y.shape[0] == (y_jets_0_train.shape[0] + y_jets_1_train.shape[0] + y_jets_2_train.shape[0] + y_jets_3_train.shape[0])"
   ]
  },
  {
   "cell_type": "code",
   "execution_count": 27,
   "metadata": {},
   "outputs": [
    {
     "data": {
      "text/plain": [
       "True"
      ]
     },
     "execution_count": 27,
     "metadata": {},
     "output_type": "execute_result"
    }
   ],
   "source": [
    "ytest.shape[0] == (y_jets_0_test.shape[0] + y_jets_1_test.shape[0] + y_jets_2_test.shape[0] + y_jets_3_test.shape[0])"
   ]
  },
  {
   "cell_type": "markdown",
   "metadata": {},
   "source": [
    "## Removing the un-needed indices from each jet, practically those are the indices that do not have any values"
   ]
  },
  {
   "cell_type": "code",
   "execution_count": 28,
   "metadata": {
    "collapsed": true
   },
   "outputs": [],
   "source": [
    "#4,5,6,12,23,24,25,26,27,28,29 for jet 0\n",
    "#4,5,6,12,26,27,28\n",
    "x_delete_index_0 = [4,5,6,12,23,24,25,26,27,28,29]\n",
    "x_delete_index_1 = [4,5,6,12,26,27,28]"
   ]
  },
  {
   "cell_type": "code",
   "execution_count": 29,
   "metadata": {},
   "outputs": [
    {
     "name": "stdout",
     "output_type": "stream",
     "text": [
      "(99913, 27)\n",
      "(227458, 27)\n"
     ]
    }
   ],
   "source": [
    "x_jets_0_train = np.delete(x_jets_0_train,x_delete_index_0,1)\n",
    "x_jets_0_test = np.delete(x_jets_0_test,x_delete_index_0,1)\n",
    "print(x_jets_0_train.shape)\n",
    "print(x_jets_0_test.shape)"
   ]
  },
  {
   "cell_type": "code",
   "execution_count": 30,
   "metadata": {},
   "outputs": [
    {
     "name": "stdout",
     "output_type": "stream",
     "text": [
      "(77544, 31)\n",
      "(175338, 31)\n"
     ]
    }
   ],
   "source": [
    "x_jets_1_train = np.delete(x_jets_1_train,x_delete_index_1,1)\n",
    "x_jets_1_test = np.delete(x_jets_1_test,x_delete_index_1,1)\n",
    "print(x_jets_1_train.shape)\n",
    "print(x_jets_1_test.shape)"
   ]
  },
  {
   "cell_type": "code",
   "execution_count": 31,
   "metadata": {},
   "outputs": [
    {
     "name": "stdout",
     "output_type": "stream",
     "text": [
      "(50379, 38)\n",
      "(114648, 38)\n",
      "(22164, 38)\n",
      "(50794, 38)\n"
     ]
    }
   ],
   "source": [
    "print(x_jets_2_train.shape)\n",
    "print(x_jets_2_test.shape)\n",
    "print(x_jets_3_train.shape)\n",
    "print(x_jets_3_test.shape)"
   ]
  },
  {
   "cell_type": "markdown",
   "metadata": {},
   "source": [
    "### Replacing the NaN values with the mean \n",
    "### Practically here we are only replacing the -999 in the first column with the average mean of each particular jet since it's the only column with mixed -999 values for all 4 jets."
   ]
  },
  {
   "cell_type": "code",
   "execution_count": 32,
   "metadata": {
    "collapsed": true
   },
   "outputs": [],
   "source": [
    "for jet_matrix in x_jets_train_matrix:\n",
    "    jet_matrix[np.where(jet_matrix == -999)] = np.nan\n",
    "    me = np.ma.array(jet_matrix, mask=np.isnan(jet_matrix)).mean(axis=0)\n",
    "    means = np.ma.getdata(jet_matrix)\n",
    "    inds = np.where(np.isnan(jet_matrix))\n",
    "    jet_matrix[inds]=np.take(means,inds[1])\n"
   ]
  },
  {
   "cell_type": "code",
   "execution_count": 33,
   "metadata": {
    "collapsed": true
   },
   "outputs": [],
   "source": [
    "for jet_matrix in x_jets_test_matrix:\n",
    "    jet_matrix[np.where(jet_matrix == -999)] = np.nan\n",
    "    me = np.ma.array(jet_matrix, mask=np.isnan(jet_matrix)).mean(axis=0)\n",
    "    means = np.ma.getdata(jet_matrix)\n",
    "    inds = np.where(np.isnan(jet_matrix))\n",
    "    jet_matrix[inds]=np.take(means,inds[1])\n"
   ]
  },
  {
   "cell_type": "code",
   "execution_count": 54,
   "metadata": {},
   "outputs": [
    {
     "data": {
      "text/plain": [
       "array([ -9.99000000e+02,   1.62172000e+02,   1.25953000e+02,\n",
       "         3.56350000e+01,   3.14800000e+00,   9.33600000e+00,\n",
       "         1.97814000e+02,   3.77600000e+00,   1.41400000e+00,\n",
       "         3.21540000e+01,  -7.05000000e-01,  -2.09300000e+00,\n",
       "         1.21409000e+02,  -9.53000000e-01,   1.05200000e+00,\n",
       "         5.42830000e+01,  -2.18600000e+00,   2.60414000e+02,\n",
       "         1.00000000e+00,   4.42510000e+01,   2.05300000e+00,\n",
       "        -2.02800000e+00,   4.42510000e+01,  -2.78685828e+01,\n",
       "        -1.60381361e+01,  -2.45935996e+01,   4.04811667e+01,\n",
       "         1.05433595e+02,   6.01988567e+01,  -1.34029216e+02,\n",
       "         1.80842407e+02])"
      ]
     },
     "execution_count": 54,
     "metadata": {},
     "output_type": "execute_result"
    }
   ],
   "source": [
    "x_jets_train_matrix[1][1]\n",
    "x_jets_1_train[1]"
   ]
  },
  {
   "cell_type": "markdown",
   "metadata": {},
   "source": [
    "## Standardizing the data"
   ]
  },
  {
   "cell_type": "code",
   "execution_count": 29,
   "metadata": {
    "collapsed": true
   },
   "outputs": [],
   "source": [
    "x_jets_0_train, x_jets_0_test = standardize(x_jets_0_train,x_jets_0_test)\n",
    "x_jets_1_train, x_jets_1_test = standardize(x_jets_1_train,x_jets_1_test)\n",
    "x_jets_2_train, x_jets_2_test = standardize(x_jets_2_train,x_jets_2_test)\n",
    "x_jets_3_train, x_jets_3_test = standardize(x_jets_3_train,x_jets_3_test)"
   ]
  },
  {
   "cell_type": "markdown",
   "metadata": {},
   "source": [
    "### Create more features by building a polynomial"
   ]
  },
  {
   "cell_type": "code",
   "execution_count": 30,
   "metadata": {
    "collapsed": true
   },
   "outputs": [],
   "source": [
    "degree = 5\n",
    "\n",
    "px_train_0 = build_poly(degree=degree,x=x_jets_0_train)\n",
    "px_test_0 = build_poly(degree=degree,x=x_jets_0_test)\n",
    "px_train_1 = build_poly(degree=degree,x=x_jets_1_train)\n",
    "px_test_1 = build_poly(degree=degree,x=x_jets_1_test)\n",
    "px_train_2 = build_poly(degree=degree,x=x_jets_2_train)\n",
    "px_test_2 = build_poly(degree=degree,x=x_jets_2_test)\n",
    "px_train_3 = build_poly(degree=degree,x=x_jets_3_train)\n",
    "px_test_3 = build_poly(degree=degree,x=x_jets_3_test)"
   ]
  },
  {
   "cell_type": "code",
   "execution_count": 31,
   "metadata": {},
   "outputs": [
    {
     "name": "stdout",
     "output_type": "stream",
     "text": [
      "(99913, 136)\n",
      "(77544, 156)\n",
      "(50379, 191)\n",
      "(22164, 191)\n"
     ]
    }
   ],
   "source": [
    "print(px_train_0.shape)\n",
    "print(px_train_1.shape)\n",
    "print(px_train_2.shape)\n",
    "print(px_train_3.shape)"
   ]
  },
  {
   "cell_type": "code",
   "execution_count": 32,
   "metadata": {},
   "outputs": [
    {
     "name": "stdout",
     "output_type": "stream",
     "text": [
      "(227458, 136)\n",
      "(175338, 156)\n",
      "(114648, 191)\n",
      "(50794, 191)\n"
     ]
    }
   ],
   "source": [
    "print(px_test_0.shape)\n",
    "print(px_test_1.shape)\n",
    "print(px_test_2.shape)\n",
    "print(px_test_3.shape)"
   ]
  },
  {
   "cell_type": "code",
   "execution_count": 33,
   "metadata": {},
   "outputs": [
    {
     "name": "stdout",
     "output_type": "stream",
     "text": [
      "(99913,)\n",
      "(77544,)\n",
      "(50379,)\n",
      "(22164,)\n"
     ]
    }
   ],
   "source": [
    "print(y_jets_0_train.shape)\n",
    "print(y_jets_1_train.shape)\n",
    "print(y_jets_2_train.shape)\n",
    "print(y_jets_3_train.shape)"
   ]
  },
  {
   "cell_type": "markdown",
   "metadata": {},
   "source": [
    "## Online testing"
   ]
  },
  {
   "cell_type": "code",
   "execution_count": 34,
   "metadata": {
    "collapsed": true
   },
   "outputs": [],
   "source": [
    "ws_0 = ridge_regression(lambda_=0.00067233575365, tx=px_train_0, y=y_jets_0_train)\n",
    "ws_1 = ridge_regression(lambda_=0.00067233575365, tx=px_train_1, y=y_jets_1_train)\n",
    "ws_2 = ridge_regression(lambda_=0.00067233575365, tx=px_train_2, y=y_jets_2_train)\n",
    "ws_3 = ridge_regression(lambda_=0.00067233575365, tx=px_train_3, y=y_jets_3_train)"
   ]
  },
  {
   "cell_type": "code",
   "execution_count": 35,
   "metadata": {
    "collapsed": true
   },
   "outputs": [],
   "source": [
    "y_pred_0 = predict_labels(ws_0, px_test_0)\n",
    "y_pred_1 = predict_labels(ws_1, px_test_1)\n",
    "y_pred_2 = predict_labels(ws_2, px_test_2)\n",
    "y_pred_3 = predict_labels(ws_3, px_test_3)"
   ]
  },
  {
   "cell_type": "code",
   "execution_count": 36,
   "metadata": {},
   "outputs": [
    {
     "data": {
      "text/plain": [
       "(227458,)"
      ]
     },
     "execution_count": 36,
     "metadata": {},
     "output_type": "execute_result"
    }
   ],
   "source": [
    "y_pred_0.shape"
   ]
  },
  {
   "cell_type": "code",
   "execution_count": 37,
   "metadata": {},
   "outputs": [
    {
     "data": {
      "text/plain": [
       "(175338,)"
      ]
     },
     "execution_count": 37,
     "metadata": {},
     "output_type": "execute_result"
    }
   ],
   "source": [
    "y_pred_1.shape"
   ]
  },
  {
   "cell_type": "code",
   "execution_count": 38,
   "metadata": {},
   "outputs": [
    {
     "data": {
      "text/plain": [
       "(114648,)"
      ]
     },
     "execution_count": 38,
     "metadata": {},
     "output_type": "execute_result"
    }
   ],
   "source": [
    "y_pred_2.shape"
   ]
  },
  {
   "cell_type": "code",
   "execution_count": 39,
   "metadata": {},
   "outputs": [
    {
     "data": {
      "text/plain": [
       "(50794,)"
      ]
     },
     "execution_count": 39,
     "metadata": {},
     "output_type": "execute_result"
    }
   ],
   "source": [
    "y_pred_3.shape"
   ]
  },
  {
   "cell_type": "code",
   "execution_count": 40,
   "metadata": {
    "collapsed": true
   },
   "outputs": [],
   "source": [
    "create_csv_submission(idstest_0, y_pred_0, 'prediction_0.csv')\n",
    "create_csv_submission(idstest_1, y_pred_1, 'prediction_1.csv')\n",
    "create_csv_submission(idstest_2, y_pred_2, 'prediction_2.csv')\n",
    "create_csv_submission(idstest_3, y_pred_3, 'prediction_3.csv')"
   ]
  },
  {
   "cell_type": "code",
   "execution_count": 41,
   "metadata": {},
   "outputs": [
    {
     "name": "stdout",
     "output_type": "stream",
     "text": [
      "prediction_3.csv has been imported.\n",
      "prediction_2.csv has been imported.\n",
      "prediction_0.csv has been imported.\n",
      "prediction_1.csv has been imported.\n"
     ]
    }
   ],
   "source": [
    "import shutil\n",
    "import glob\n",
    "#import csv files from folder\n",
    "#path = r'data/US/market/merged_data'\n",
    "interesting_files = glob.glob(\"*.csv\") \n",
    "#allFiles = glob.glob(path + \"/*.csv\")\n",
    "with open('someoutputfile_1.csv', 'wb') as outfile:\n",
    "    for i, fname in enumerate(interesting_files):\n",
    "        with open(fname, 'rb') as infile:\n",
    "            if i != 0:\n",
    "                infile.readline()  # Throw away header on all but first file\n",
    "            # Block copy rest of file from input to output without parsing\n",
    "            shutil.copyfileobj(infile, outfile)\n",
    "            print(fname + \" has been imported.\")"
   ]
  },
  {
   "cell_type": "code",
   "execution_count": 42,
   "metadata": {
    "collapsed": true
   },
   "outputs": [],
   "source": [
    "import sys, csv ,operator\n",
    "data = csv.reader(open('someoutputfile_1.csv'),delimiter=',')\n",
    "sortedlist = sorted(data, key=operator.itemgetter(0))    # 0 specifies according to first column we want to sort\n",
    "      #now write the sorte result into new CSV file\n",
    "del sortedlist[len(sortedlist)-1]\n",
    "with open(\"Sorted_output.csv\", \"w\") as f:\n",
    "    fileWriter = csv.writer(f, delimiter=',')\n",
    "    fileWriter.writerow([\"Id\", \"Prediction\"])\n",
    "    for row in sortedlist:\n",
    "        fileWriter.writerow([int(row[0]), int(row[1])])\n"
   ]
  },
  {
   "cell_type": "markdown",
   "metadata": {},
   "source": [
    "## Splitting the data into train/test"
   ]
  },
  {
   "cell_type": "code",
   "execution_count": null,
   "metadata": {
    "collapsed": true
   },
   "outputs": [],
   "source": [
    "train_x_0, train_y_0, test_x_0, test_y_0 = split_data(px_train_0, y_jets_0_train, 0.8, seed=1)\n",
    "train_x_1, train_y_1, test_x_1, test_y_1 = split_data(px_train_1, y_jets_1_train, 0.8, seed=1)\n",
    "train_x_2, train_y_2, test_x_2, test_y_2 = split_data(px_train_2, y_jets_2_train, 0.8, seed=1)\n",
    "train_x_3, train_y_3, test_x_3, test_y_3 = split_data(px_train_3, y_jets_3_train, 0.8, seed=1)"
   ]
  },
  {
   "cell_type": "code",
   "execution_count": null,
   "metadata": {
    "collapsed": true
   },
   "outputs": [],
   "source": [
    "ws_0 = ridge_regression(lambda_=0.00067233575365, tx=train_x_0, y=train_y_0)\n",
    "ws_1 = ridge_regression(lambda_=0.00067233575365, tx=train_x_1, y=train_y_1)\n",
    "ws_2 = ridge_regression(lambda_=0.00067233575365, tx=train_x_2, y=train_y_2)\n",
    "ws_3 = ridge_regression(lambda_=0.00067233575365, tx=train_x_3, y=train_y_3)"
   ]
  },
  {
   "cell_type": "code",
   "execution_count": null,
   "metadata": {
    "collapsed": true
   },
   "outputs": [],
   "source": [
    "y_pred_0 = predict_labels(ws_0, px_test_0)\n",
    "y_pred_1 = predict_labels(ws_1, px_test_1)\n",
    "y_pred_2 = predict_labels(ws_2, px_test_2)\n",
    "y_pred_3 = predict_labels(ws_3, px_test_3)"
   ]
  },
  {
   "cell_type": "code",
   "execution_count": null,
   "metadata": {
    "collapsed": true
   },
   "outputs": [],
   "source": [
    "y_pred_0.shape"
   ]
  },
  {
   "cell_type": "code",
   "execution_count": null,
   "metadata": {
    "collapsed": true
   },
   "outputs": [],
   "source": [
    "test_y_0.shape"
   ]
  },
  {
   "cell_type": "code",
   "execution_count": null,
   "metadata": {
    "collapsed": true
   },
   "outputs": [],
   "source": [
    "accuracy_0 = 1 - np.mean( y_pred_0 != test_y_0 )\n",
    "print(\"Accuracy: \" + str(accuracy_0) + \"%\")\n",
    "accuracy_1 = 1 - np.mean( y_pred_1 != test_y_1 )\n",
    "print(\"Accuracy: \" + str(accuracy_1) + \"%\")\n",
    "accuracy_2 = 1 - np.mean( y_pred_2 != test_y_2 )\n",
    "print(\"Accuracy: \" + str(accuracy_2) + \"%\")\n",
    "accuracy_3 = 1 - np.mean( y_pred_3 != test_y_3 )\n",
    "print(\"Accuracy: \" + str(accuracy_3) + \"%\")"
   ]
  },
  {
   "cell_type": "markdown",
   "metadata": {},
   "source": [
    "### With Added Features:\n",
    "    1-Accuracy: 0.720762648251%\n",
    "    2-Accuracy: 0.684118898704%\n",
    "    3-Accuracy: 0.740075426757%\n",
    "    4-Accuracy: 0.661403113016%\n",
    "### Polynomial 3 + added features:\n",
    "    1-Accuracy: 0.834709503078%\n",
    "    2-Accuracy: 0.761299890386%\n",
    "    3-Accuracy: 0.793370385073%\n",
    "    4-Accuracy: 0.798330701557%\n",
    "### Polynomial 5 + added features:\n",
    "    1-Accuracy: 0.843316819296%\n",
    "    2-Accuracy: 0.780965890773%\n",
    "    3-Accuracy: 0.804485907106%\n",
    "    4-Accuracy: 0.810286487706%\n",
    "### Polynomial 7 + added features:\n",
    "    1-Accuracy: 0.84561877596%\n",
    "    2-Accuracy: 0.783609517055%\n",
    "    3-Accuracy: 0.815204446209%\n",
    "    4-Accuracy: 0.818407399053%\n",
    "### Polynomial 9+ added features:\n",
    "    1-Accuracy: 0.848170945304%\n",
    "    2-Accuracy: 0.800309497711%\n",
    "    3-Accuracy: 0.82423580786%\n",
    "    4-Accuracy: 0.838258515678%\n",
    "### Polynomial 11+ added features:\n",
    "    1-Accuracy: 0.849371966171%\n",
    "    2-Accuracy: 0.799535753433%\n",
    "    3-Accuracy: 0.824930527987%\n",
    "    4-Accuracy: 0.837356192195%\n",
    "### Polynomial 13+ added featuers:\n",
    "    1-Accuracy: 0.511034379222%\n",
    "    2-Accuracy: 0.802050422335%\n",
    "    3-Accuracy: 0.771734815403%\n",
    "    4-Accuracy: 0.82066320776%\n",
    "### Polynomial 15 + added features:\n",
    "    1-Accuracy: 0.555922534154%\n",
    "    2-Accuracy: 0.773099490618%\n",
    "    3-Accuracy: 0.636661373561%\n",
    "    4-Accuracy: 0.663884502594%"
   ]
  },
  {
   "cell_type": "markdown",
   "metadata": {},
   "source": [
    "## Removing column features"
   ]
  },
  {
   "cell_type": "code",
   "execution_count": null,
   "metadata": {
    "collapsed": true
   },
   "outputs": [],
   "source": [
    "columns_feature_to_delete = [pri_jet_phi,pri_sub_phi,pri_tau_phi,pri_lep_phi,met_phi]\n",
    "x = np.delete(x, columns_feature_to_delete, 1)\n",
    "testx = np.delete(testx, columns_feature_to_delete, 1)"
   ]
  },
  {
   "cell_type": "code",
   "execution_count": null,
   "metadata": {
    "collapsed": true
   },
   "outputs": [],
   "source": [
    "x.shape"
   ]
  },
  {
   "cell_type": "code",
   "execution_count": null,
   "metadata": {
    "collapsed": true,
    "scrolled": true
   },
   "outputs": [],
   "source": [
    "x[np.where(x == -999)] = np.nan\n",
    "me = np.ma.array(x, mask=np.isnan(x)).mean(axis=0)\n",
    "means = np.ma.getdata(me)\n",
    "inds = np.where(np.isnan(x))\n",
    "x[inds]=np.take(means,inds[1])"
   ]
  },
  {
   "cell_type": "code",
   "execution_count": null,
   "metadata": {
    "collapsed": true
   },
   "outputs": [],
   "source": [
    "testx[np.where(testx == -999)] = np.nan\n",
    "me = np.ma.array(testx, mask=np.isnan(testx)).mean(axis=0)\n",
    "means = np.ma.getdata(me)\n",
    "inds = np.where(np.isnan(testx))\n",
    "testx[inds]=np.take(means,inds[1])"
   ]
  },
  {
   "cell_type": "code",
   "execution_count": null,
   "metadata": {
    "collapsed": true
   },
   "outputs": [],
   "source": [
    "x, mean_x, std_x = standardize(x)\n",
    "testx, mean_x, std_x = standardize(testx)"
   ]
  },
  {
   "cell_type": "code",
   "execution_count": null,
   "metadata": {
    "collapsed": true
   },
   "outputs": [],
   "source": [
    "x[2]\n",
    "testx[2]"
   ]
  },
  {
   "cell_type": "markdown",
   "metadata": {},
   "source": [
    "# Local test"
   ]
  },
  {
   "cell_type": "code",
   "execution_count": null,
   "metadata": {
    "collapsed": true
   },
   "outputs": [],
   "source": [
    "train_x, train_y, test_x, test_y = split_data(x, y, 0.8, seed=1)"
   ]
  },
  {
   "cell_type": "code",
   "execution_count": null,
   "metadata": {
    "collapsed": true
   },
   "outputs": [],
   "source": [
    "degree = 6\n",
    "px_train = build_poly(degree=degree,x=train_x)\n",
    "px_test = build_poly(degree=degree,x=test_x)"
   ]
  },
  {
   "cell_type": "code",
   "execution_count": null,
   "metadata": {
    "collapsed": true
   },
   "outputs": [],
   "source": [
    "px_train.shape"
   ]
  },
  {
   "cell_type": "markdown",
   "metadata": {},
   "source": [
    "# Online test"
   ]
  },
  {
   "cell_type": "code",
   "execution_count": null,
   "metadata": {
    "collapsed": true,
    "scrolled": false
   },
   "outputs": [],
   "source": [
    "degree = 6\n",
    "px_train = build_poly(degree=degree,x=x)\n",
    "px_test = build_poly(degree=degree,x=testx)"
   ]
  },
  {
   "cell_type": "code",
   "execution_count": null,
   "metadata": {
    "collapsed": true
   },
   "outputs": [],
   "source": [
    "px_train.shape"
   ]
  },
  {
   "cell_type": "markdown",
   "metadata": {},
   "source": [
    "# Logistic regression"
   ]
  },
  {
   "cell_type": "code",
   "execution_count": null,
   "metadata": {
    "collapsed": true
   },
   "outputs": [],
   "source": [
    "def logistic_regression_gradient_descent_demo(y, x):\n",
    "    # init parameters\n",
    "    max_iter = 10000\n",
    "    threshold = 1e-8\n",
    "    gamma = 0.0000001\n",
    "    losses = []\n",
    "\n",
    "    y[y == -1] = 0\n",
    "    # build tx\n",
    "    w = np.zeros((x.shape[1], ))\n",
    "    # start the logistic regression\n",
    "    for iter in range(max_iter):\n",
    "        # get loss and update w.\n",
    "        loss, w = learning_by_gradient_descent(y, x, w, gamma)\n",
    "        # log info\n",
    "        if iter % 1 == 0:\n",
    "            print(\"Current iteration={i}, loss={l}\".format(i=iter, l=loss))\n",
    "        # converge criterion\n",
    "        losses.append(loss)\n",
    "        if len(losses) > 1 and np.abs(losses[-1] - losses[-2]) < threshold:\n",
    "            break\n",
    "    # visualization\n",
    "    print(\"loss={l}\".format(l=calculate_loss(y, x, w)))"
   ]
  },
  {
   "cell_type": "code",
   "execution_count": null,
   "metadata": {
    "collapsed": true,
    "scrolled": true
   },
   "outputs": [],
   "source": [
    "logistic_regression_gradient_descent_demo(y, x)"
   ]
  },
  {
   "cell_type": "markdown",
   "metadata": {},
   "source": [
    "# With ridge regression"
   ]
  },
  {
   "cell_type": "code",
   "execution_count": null,
   "metadata": {
    "collapsed": true
   },
   "outputs": [],
   "source": [
    "ws = ridge_regression(lambda_=0.00067233575365, tx=px_train, y=train_y)"
   ]
  },
  {
   "cell_type": "code",
   "execution_count": null,
   "metadata": {
    "collapsed": true
   },
   "outputs": [],
   "source": [
    "loss = compute_mse(train_y, px_train, ws)\n",
    "loss"
   ]
  },
  {
   "cell_type": "code",
   "execution_count": null,
   "metadata": {
    "collapsed": true
   },
   "outputs": [],
   "source": [
    "loss = compute_mse(ytest, px_test, ws)\n",
    "loss"
   ]
  },
  {
   "cell_type": "markdown",
   "metadata": {},
   "source": [
    "# Prediction"
   ]
  },
  {
   "cell_type": "code",
   "execution_count": null,
   "metadata": {
    "collapsed": true
   },
   "outputs": [],
   "source": [
    "y_pred = predict_labels(ws, px_test)"
   ]
  },
  {
   "cell_type": "code",
   "execution_count": null,
   "metadata": {
    "collapsed": true
   },
   "outputs": [],
   "source": [
    "accuracy = 1 - np.mean( y_pred != test_y )"
   ]
  },
  {
   "cell_type": "code",
   "execution_count": null,
   "metadata": {
    "collapsed": true
   },
   "outputs": [],
   "source": [
    "print(\"Accuracy: \" + str(accuracy) + \"%\")"
   ]
  },
  {
   "cell_type": "markdown",
   "metadata": {},
   "source": [
    "# Submission"
   ]
  },
  {
   "cell_type": "code",
   "execution_count": null,
   "metadata": {
    "collapsed": true
   },
   "outputs": [],
   "source": [
    "create_csv_submission(idstest, y_pred, 'prediction.csv')"
   ]
  },
  {
   "cell_type": "markdown",
   "metadata": {},
   "source": [
    "# Prepare data for k-fold cross validation"
   ]
  },
  {
   "cell_type": "code",
   "execution_count": null,
   "metadata": {
    "collapsed": true,
    "scrolled": false
   },
   "outputs": [],
   "source": [
    "seed = 1\n",
    "degree = 6\n",
    "k_fold = 10\n",
    "lambdas = np.logspace(-4, 0, 30)\n",
    "k_indices = build_k_indices(y, k_fold, seed)\n",
    "rmse_tr = []\n",
    "rmse_te = []\n",
    "best_loss = 999\n",
    "for k in range(k_fold):\n",
    "    temp_tr = []\n",
    "    temp_te = []\n",
    "    best_test_ws = []\n",
    "    for lambda_ in lambdas:\n",
    "        tr_loss, te_loss, ws = cross_validation(y, x, k_indices, k, lambda_, degree)\n",
    "        if(te_loss < best_loss):\n",
    "            best_loss = te_loss\n",
    "            best_lambda = lambda_\n",
    "        temp_tr.append(tr_loss)\n",
    "        temp_te.append(te_loss)\n",
    "        # print(\"Lambda = \" + str(lambda_) + \" tr_loss = \" + str(tr_loss) + \" te_loss = \" + str(te_loss))\n",
    "    print(\"After lambdas iteration, the best lambda is : \" + str(best_lambda) + \" for k-fold : \" + str(k) + \" with best loss = \" + str(best_loss))\n",
    "    best_test_ws.append(lambda_)\n",
    "    rmse_tr.append(temp_tr)\n",
    "    rmse_te.append(temp_te)\n",
    "\n",
    "rmse_tr = np.matrix(rmse_tr)\n",
    "rmse_tr = np.mean(rmse_tr, axis=0)\n",
    "rmse_tr = np.reshape(rmse_tr, (len(lambdas),-1))\n",
    "rmse_te = np.matrix(rmse_te)\n",
    "rmse_te = np.mean(rmse_te, axis=0)\n",
    "rmse_te = np.reshape(rmse_te, (len(lambdas),-1))\n",
    "\n",
    "cross_validation_visualization(lambdas, rmse_tr, rmse_te)"
   ]
  },
  {
   "cell_type": "code",
   "execution_count": null,
   "metadata": {
    "collapsed": true
   },
   "outputs": [],
   "source": [
    "def learning_by_newton_method(y, tx, w):\n",
    "    \"\"\"\n",
    "    Do one step on Newton's method.\n",
    "    return the loss and updated w.\n",
    "    \"\"\"\n",
    "    # ***************************************************\n",
    "    # INSERT YOUR CODE HERE\n",
    "    # return loss, gradient and hessian: TODO\n",
    "    # ***************************************************\n",
    "    print('here it is')\n",
    "    loss, gradient, hessian = logistic_regression(y,tx,w)\n",
    "    \n",
    "    #raise NotImplementedError\n",
    "    # ***************************************************\n",
    "    # INSERT YOUR CODE HERE\n",
    "    # update w: TODO\n",
    "    # ***************************************************\n",
    "    print('here it is')\n",
    "    termine = np.linalg.solve(hessian,gradient)\n",
    "    w = w-termine\n",
    "    \n",
    "    #raise NotImplementedError\n",
    "    return loss, w"
   ]
  },
  {
   "cell_type": "code",
   "execution_count": null,
   "metadata": {
    "collapsed": true
   },
   "outputs": [],
   "source": [
    "def logistic_regression_newton_method_demo(y, x):\n",
    "    # init parameters\n",
    "    max_iter = 100\n",
    "    threshold = 1e-8\n",
    "    lambda_ = 0.01\n",
    "    losses = []\n",
    "\n",
    "    # build tx\n",
    "    tx = np.c_[np.ones((y.shape[0], 1)), x]\n",
    "    w = np.zeros((x.shape[1], ))\n",
    "    # start the logistic regression\n",
    "    for iter in range(max_iter):\n",
    "        # get loss and update w.\n",
    "        loss, w = learning_by_newton_method(y, x, w)\n",
    "        # log info\n",
    "        if iter % 1 == 0:\n",
    "            print(\"Current iteration={i}, the loss={l}\".format(i=iter, l=loss))\n",
    "        # converge criterion\n",
    "        losses.append(loss)\n",
    "        if len(losses) > 1 and np.abs(losses[-1] - losses[-2]) < threshold:\n",
    "            break\n",
    "    # visualization\n",
    "    visualization(y, x, mean_x, std_x, w, \"classification_by_logistic_regression_newton_method\")\n",
    "    print(\"loss={l}\".format(l=calculate_loss(y, tx, w)))"
   ]
  },
  {
   "cell_type": "code",
   "execution_count": null,
   "metadata": {
    "collapsed": true
   },
   "outputs": [],
   "source": [
    "# logistic_regression_newton_method_demo(y,x)"
   ]
  }
 ],
 "metadata": {
  "kernelspec": {
   "display_name": "Python 3",
   "language": "python",
   "name": "python3"
  },
  "language_info": {
   "codemirror_mode": {
    "name": "ipython",
    "version": 3
   },
   "file_extension": ".py",
   "mimetype": "text/x-python",
   "name": "python",
   "nbconvert_exporter": "python",
   "pygments_lexer": "ipython3",
   "version": "3.6.2"
  }
 },
 "nbformat": 4,
 "nbformat_minor": 2
}
