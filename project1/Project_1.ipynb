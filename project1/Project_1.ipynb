{
 "cells": [
  {
   "cell_type": "markdown",
   "metadata": {},
   "source": [
    "# Project 1\n",
    "**Finding the Higgs Boson**\n",
    "![Higgs Boson](https://home.cern/sites/home.web.cern.ch/files/styles/medium/public/image/featured/2014/01/higgs_event_display_1.jpg?itok=0zdD0QEr)"
   ]
  },
  {
   "cell_type": "markdown",
   "metadata": {},
   "source": [
    "## Importing libs and modules"
   ]
  },
  {
   "cell_type": "code",
   "execution_count": 1,
   "metadata": {
    "collapsed": true
   },
   "outputs": [],
   "source": [
    "%matplotlib inline\n",
    "import numpy as np\n",
    "import matplotlib.pyplot as plt\n",
    "%load_ext autoreload\n",
    "%autoreload 2\n",
    "from proj1_helpers import *\n",
    "from implementations import *\n",
    "from plots import *"
   ]
  },
  {
   "cell_type": "markdown",
   "metadata": {},
   "source": [
    "### Datasets path"
   ]
  },
  {
   "cell_type": "code",
   "execution_count": 2,
   "metadata": {
    "collapsed": true
   },
   "outputs": [],
   "source": [
    "train_path = './data/train.csv'\n",
    "test_path = './data/test.csv'"
   ]
  },
  {
   "cell_type": "markdown",
   "metadata": {},
   "source": [
    "### Hyperparams, will be used with logistic regression"
   ]
  },
  {
   "cell_type": "code",
   "execution_count": 3,
   "metadata": {
    "collapsed": true
   },
   "outputs": [],
   "source": [
    "max_iter = 10000\n",
    "threshold = 1e-8\n",
    "gamma = 0.01\n",
    "losses = []"
   ]
  },
  {
   "cell_type": "markdown",
   "metadata": {},
   "source": [
    "## Loading datasets"
   ]
  },
  {
   "cell_type": "code",
   "execution_count": 4,
   "metadata": {
    "collapsed": true
   },
   "outputs": [],
   "source": [
    "y, x, ids = load_csv_data(train_path)\n",
    "ytest, xtest, idstest = load_csv_data(test_path)"
   ]
  },
  {
   "cell_type": "markdown",
   "metadata": {},
   "source": [
    "## Removing column features"
   ]
  },
  {
   "cell_type": "code",
   "execution_count": 5,
   "metadata": {
    "collapsed": true
   },
   "outputs": [],
   "source": [
    "columns_feature_to_delete = [15,18,20,25,28]\n",
    "x = np.delete(x, columns_feature_to_delete, 1)\n",
    "xtest = np.delete(xtest, columns_feature_to_delete, 1)"
   ]
  },
  {
   "cell_type": "code",
   "execution_count": 6,
   "metadata": {
    "collapsed": true
   },
   "outputs": [],
   "source": [
    "x[np.where(x == -999)] = np.nan"
   ]
  },
  {
   "cell_type": "code",
   "execution_count": 7,
   "metadata": {
    "collapsed": true
   },
   "outputs": [],
   "source": [
    "x, mean_x, std_x = standardize(x)\n",
    "xtest, mean_xtest, std_xtest = standardize(xtest)"
   ]
  },
  {
   "cell_type": "code",
   "execution_count": 8,
   "metadata": {
    "collapsed": true,
    "scrolled": true
   },
   "outputs": [],
   "source": [
    "x = np.nan_to_num(x)"
   ]
  },
  {
   "cell_type": "markdown",
   "metadata": {},
   "source": [
    "# Logistic regression"
   ]
  },
  {
   "cell_type": "code",
   "execution_count": 9,
   "metadata": {
    "collapsed": true
   },
   "outputs": [],
   "source": [
    "def learning_by_newton_method(y, tx, w):\n",
    "    \"\"\"\n",
    "    Do one step on Newton's method.\n",
    "    return the loss and updated w.\n",
    "    \"\"\"\n",
    "    # ***************************************************\n",
    "    # INSERT YOUR CODE HERE\n",
    "    # return loss, gradient and hessian: TODO\n",
    "    # ***************************************************\n",
    "    print('here it is')\n",
    "    loss, gradient, hessian = logistic_regression(y,tx,w)\n",
    "    \n",
    "    #raise NotImplementedError\n",
    "    # ***************************************************\n",
    "    # INSERT YOUR CODE HERE\n",
    "    # update w: TODO\n",
    "    # ***************************************************\n",
    "    print('here it is')\n",
    "    termine = np.linalg.solve(hessian,gradient)\n",
    "    w = w-termine\n",
    "    \n",
    "    #raise NotImplementedError\n",
    "    return loss, w"
   ]
  },
  {
   "cell_type": "code",
   "execution_count": 10,
   "metadata": {
    "collapsed": true
   },
   "outputs": [],
   "source": [
    "def logistic_regression_newton_method_demo(y, x):\n",
    "    # init parameters\n",
    "    max_iter = 100\n",
    "    threshold = 1e-8\n",
    "    lambda_ = 0.01\n",
    "    losses = []\n",
    "\n",
    "    print('Here')\n",
    "    # build tx\n",
    "    w = np.zeros((x.shape[1], 1))\n",
    "    print(w.shape)\n",
    "    print('now here')\n",
    "    # start the logistic regression\n",
    "    for iter in range(max_iter):\n",
    "        print('boom')\n",
    "        # get loss and update w.\n",
    "        loss, w = learning_by_newton_method(y, x, w)\n",
    "        print('boooooom')\n",
    "        # log info\n",
    "        if iter % 1 == 0:\n",
    "            print(\"Current iteration={i}, the loss={l}\".format(i=iter, l=loss))\n",
    "        # converge criterion\n",
    "        losses.append(loss)\n",
    "        if len(losses) > 1 and np.abs(losses[-1] - losses[-2]) < threshold:\n",
    "            break\n",
    "    # visualization\n",
    "    visualization(y, x, mean_x, std_x, w, \"classification_by_logistic_regression_newton_method\")\n",
    "    print(\"loss={l}\".format(l=calculate_loss(y, tx, w)))"
   ]
  },
  {
   "cell_type": "code",
   "execution_count": 11,
   "metadata": {
    "collapsed": true,
    "scrolled": false
   },
   "outputs": [],
   "source": [
    "degree = 1\n",
    "px_train = build_poly(degree=degree,x=x)\n",
    "px_test = build_poly(degree=degree,x=xtest)"
   ]
  },
  {
   "cell_type": "code",
   "execution_count": null,
   "metadata": {},
   "outputs": [
    {
     "name": "stdout",
     "output_type": "stream",
     "text": [
      "(250000,)\n",
      "Here\n",
      "(26, 1)\n",
      "now here\n",
      "boom\n",
      "here it is\n",
      "hessian\n",
      "cussomak\n",
      "cussomak\n",
      "cussomak\n",
      "cussomak\n",
      "[[ 1.          1.          1.         ...,  1.          1.          1.        ]\n",
      " [ 0.          0.          0.         ...,  0.          0.          0.        ]\n",
      " [ 0.06833197  0.55250482  3.19515553 ...,  0.31931645 -0.84532397\n",
      "   0.66533608]\n",
      " ..., \n",
      " [ 0.          0.          0.         ...,  0.          0.          0.        ]\n",
      " [ 0.          0.          0.         ...,  0.          0.          0.        ]\n",
      " [ 0.4125105  -0.27381996 -0.29396985 ..., -0.31701723 -0.74543941\n",
      "  -0.74543941]]\n",
      "[[ 0.25  0.    0.   ...,  0.    0.    0.  ]\n",
      " [ 0.    0.25  0.   ...,  0.    0.    0.  ]\n",
      " [ 0.    0.    0.25 ...,  0.    0.    0.  ]\n",
      " ..., \n",
      " [ 0.    0.    0.   ...,  0.25  0.    0.  ]\n",
      " [ 0.    0.    0.   ...,  0.    0.25  0.  ]\n",
      " [ 0.    0.    0.   ...,  0.    0.    0.25]]\n"
     ]
    }
   ],
   "source": [
    "print(y.shape)\n",
    "logistic_regression_newton_method_demo(y, px_train)"
   ]
  },
  {
   "cell_type": "code",
   "execution_count": null,
   "metadata": {},
   "outputs": [],
   "source": [
    "v1 = np.array([1,2,3])\n",
    "v2 = np.matrix([1,2,3])\n",
    "np.reshape(v2, (3,1))\n"
   ]
  },
  {
   "cell_type": "code",
   "execution_count": null,
   "metadata": {
    "collapsed": true
   },
   "outputs": [],
   "source": []
  },
  {
   "cell_type": "code",
   "execution_count": 10,
   "metadata": {},
   "outputs": [
    {
     "name": "stdout",
     "output_type": "stream",
     "text": [
      "(250000, 151)\n",
      "(568238, 151)\n"
     ]
    }
   ],
   "source": [
    "print(px_train.shape)\n",
    "print(px_test.shape)"
   ]
  },
  {
   "cell_type": "markdown",
   "metadata": {},
   "source": [
    "# With ridge regression"
   ]
  },
  {
   "cell_type": "code",
   "execution_count": 11,
   "metadata": {
    "collapsed": true
   },
   "outputs": [],
   "source": [
    "ws = ridge_regression(lambda_=0.00067233575365, tx=px_train, y=y)"
   ]
  },
  {
   "cell_type": "markdown",
   "metadata": {},
   "source": [
    "# With Logistic Regression"
   ]
  },
  {
   "cell_type": "code",
   "execution_count": 12,
   "metadata": {
    "collapsed": true
   },
   "outputs": [],
   "source": [
    "y_pred = predict_labels(ws, px_test)"
   ]
  },
  {
   "cell_type": "code",
   "execution_count": 13,
   "metadata": {
    "collapsed": true
   },
   "outputs": [],
   "source": [
    "create_csv_submission(idstest, y_pred, 'prediction.csv')"
   ]
  },
  {
   "cell_type": "code",
   "execution_count": null,
   "metadata": {
    "collapsed": true
   },
   "outputs": [],
   "source": []
  },
  {
   "cell_type": "markdown",
   "metadata": {},
   "source": [
    "# Prepare data for k-fold cross validation"
   ]
  },
  {
   "cell_type": "code",
   "execution_count": 9,
   "metadata": {
    "scrolled": false
   },
   "outputs": [
    {
     "name": "stdout",
     "output_type": "stream",
     "text": [
      "After lambdas iteration, the best lambda is : 0.000923670857187 for k-fold : 0 with best loss = 0.32320282507\n",
      "After lambdas iteration, the best lambda is : 0.00067233575365 for k-fold : 1 with best loss = 0.318268149501\n",
      "After lambdas iteration, the best lambda is : 0.00067233575365 for k-fold : 2 with best loss = 0.318268149501\n",
      "After lambdas iteration, the best lambda is : 0.00067233575365 for k-fold : 3 with best loss = 0.318268149501\n",
      "After lambdas iteration, the best lambda is : 0.00067233575365 for k-fold : 4 with best loss = 0.318268149501\n",
      "After lambdas iteration, the best lambda is : 0.00067233575365 for k-fold : 5 with best loss = 0.318268149501\n",
      "After lambdas iteration, the best lambda is : 0.00067233575365 for k-fold : 6 with best loss = 0.318268149501\n",
      "After lambdas iteration, the best lambda is : 0.00067233575365 for k-fold : 7 with best loss = 0.318268149501\n",
      "After lambdas iteration, the best lambda is : 0.00067233575365 for k-fold : 8 with best loss = 0.318268149501\n",
      "After lambdas iteration, the best lambda is : 0.00067233575365 for k-fold : 9 with best loss = 0.318268149501\n"
     ]
    },
    {
     "data": {
      "image/png": "[encoded data removed]",
      "text/plain": [
       "<matplotlib.figure.Figure at 0x1080d2d30>"
      ]
     },
     "metadata": {},
     "output_type": "display_data"
    }
   ],
   "source": [
    "seed = 1\n",
    "degree = 6\n",
    "k_fold = 10\n",
    "lambdas = np.logspace(-4, 0, 30)\n",
    "k_indices = build_k_indices(y, k_fold, seed)\n",
    "rmse_tr = []\n",
    "rmse_te = []\n",
    "best_loss = 999\n",
    "for k in range(k_fold):\n",
    "    temp_tr = []\n",
    "    temp_te = []\n",
    "    best_test_ws = []\n",
    "    for lambda_ in lambdas:\n",
    "        tr_loss, te_loss, ws = cross_validation(y, x, k_indices, k, lambda_, degree)\n",
    "        if(te_loss < best_loss):\n",
    "            best_loss = te_loss\n",
    "            best_lambda = lambda_\n",
    "        temp_tr.append(tr_loss)\n",
    "        temp_te.append(te_loss)\n",
    "        # print(\"Lambda = \" + str(lambda_) + \" tr_loss = \" + str(tr_loss) + \" te_loss = \" + str(te_loss))\n",
    "    print(\"After lambdas iteration, the best lambda is : \" + str(best_lambda) + \" for k-fold : \" + str(k) + \" with best loss = \" + str(best_loss))\n",
    "    best_test_ws.append(lambda_)\n",
    "    rmse_tr.append(temp_tr)\n",
    "    rmse_te.append(temp_te)\n",
    "\n",
    "rmse_tr = np.matrix(rmse_tr)\n",
    "rmse_tr = np.mean(rmse_tr, axis=0)\n",
    "rmse_tr = np.reshape(rmse_tr, (len(lambdas),-1))\n",
    "rmse_te = np.matrix(rmse_te)\n",
    "rmse_te = np.mean(rmse_te, axis=0)\n",
    "rmse_te = np.reshape(rmse_te, (len(lambdas),-1))\n",
    "\n",
    "cross_validation_visualization(lambdas, rmse_tr, rmse_te)"
   ]
  }
 ],
 "metadata": {
  "kernelspec": {
   "display_name": "Python 3",
   "language": "python",
   "name": "python3"
  },
  "language_info": {
   "codemirror_mode": {
    "name": "ipython",
    "version": 3
   },
   "file_extension": ".py",
   "mimetype": "text/x-python",
   "name": "python",
   "nbconvert_exporter": "python",
   "pygments_lexer": "ipython3",
   "version": "3.6.2"
  }
 },
 "nbformat": 4,
 "nbformat_minor": 2
}
